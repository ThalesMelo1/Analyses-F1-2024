{
 "cells": [
  {
   "cell_type": "code",
   "execution_count": 2,
   "id": "2929dc52",
   "metadata": {},
   "outputs": [],
   "source": [
    "import pandas as pd\n",
    "import matplotlib.pyplot as plt\n",
    "import numpy as np"
   ]
  },
  {
   "cell_type": "code",
   "execution_count": 3,
   "id": "da1d859e",
   "metadata": {},
   "outputs": [],
   "source": [
    "df = pd.read_csv('/workspaces/Repository_Data_Science_Challenges/Desafios/F1/Data/Base.csv')"
   ]
  },
  {
   "cell_type": "code",
   "execution_count": 4,
   "id": "f4b3c490",
   "metadata": {},
   "outputs": [],
   "source": [
    "df.drop('Unnamed: 0', axis = 'columns',  inplace = True)"
   ]
  },
  {
   "cell_type": "code",
   "execution_count": 11,
   "id": "27b599ef",
   "metadata": {},
   "outputs": [
    {
     "data": {
      "application/vnd.microsoft.datawrangler.viewer.v0+json": {
       "columns": [
        {
         "name": "index",
         "rawType": "int64",
         "type": "integer"
        },
        {
         "name": "raceId",
         "rawType": "int64",
         "type": "integer"
        },
        {
         "name": "year",
         "rawType": "int64",
         "type": "integer"
        },
        {
         "name": "date",
         "rawType": "object",
         "type": "string"
        },
        {
         "name": "name",
         "rawType": "object",
         "type": "string"
        },
        {
         "name": "forename",
         "rawType": "object",
         "type": "string"
        },
        {
         "name": "driverRef",
         "rawType": "object",
         "type": "string"
        },
        {
         "name": "grid",
         "rawType": "int64",
         "type": "integer"
        },
        {
         "name": "position",
         "rawType": "int64",
         "type": "integer"
        },
        {
         "name": "points",
         "rawType": "float64",
         "type": "float"
        }
       ],
       "ref": "92a81495-a4d7-4ccd-bf82-c2162b0214ba",
       "rows": [
        [
         "0",
         "1144",
         "2024",
         "2024-12-08",
         "Abu Dhabi Grand Prix",
         "Lando",
         "norris",
         "1",
         "1",
         "25.0"
        ],
        [
         "1",
         "1144",
         "2024",
         "2024-12-08",
         "Abu Dhabi Grand Prix",
         "Carlos",
         "sainz",
         "3",
         "2",
         "18.0"
        ],
        [
         "2",
         "1144",
         "2024",
         "2024-12-08",
         "Abu Dhabi Grand Prix",
         "Charles",
         "leclerc",
         "19",
         "3",
         "15.0"
        ],
        [
         "3",
         "1144",
         "2024",
         "2024-12-08",
         "Abu Dhabi Grand Prix",
         "Lewis",
         "hamilton",
         "16",
         "4",
         "12.0"
        ],
        [
         "4",
         "1144",
         "2024",
         "2024-12-08",
         "Abu Dhabi Grand Prix",
         "George",
         "russell",
         "6",
         "5",
         "10.0"
        ],
        [
         "5",
         "1144",
         "2024",
         "2024-12-08",
         "Abu Dhabi Grand Prix",
         "Max",
         "max_verstappen",
         "4",
         "6",
         "8.0"
        ],
        [
         "6",
         "1144",
         "2024",
         "2024-12-08",
         "Abu Dhabi Grand Prix",
         "Pierre",
         "gasly",
         "5",
         "7",
         "6.0"
        ],
        [
         "7",
         "1144",
         "2024",
         "2024-12-08",
         "Abu Dhabi Grand Prix",
         "Nico",
         "hulkenberg",
         "7",
         "8",
         "4.0"
        ],
        [
         "8",
         "1144",
         "2024",
         "2024-12-08",
         "Abu Dhabi Grand Prix",
         "Fernando",
         "alonso",
         "8",
         "9",
         "2.0"
        ],
        [
         "9",
         "1144",
         "2024",
         "2024-12-08",
         "Abu Dhabi Grand Prix",
         "Oscar",
         "piastri",
         "2",
         "10",
         "1.0"
        ],
        [
         "10",
         "1144",
         "2024",
         "2024-12-08",
         "Abu Dhabi Grand Prix",
         "Alexander",
         "albon",
         "18",
         "11",
         "0.0"
        ],
        [
         "11",
         "1144",
         "2024",
         "2024-12-08",
         "Abu Dhabi Grand Prix",
         "Yuki",
         "tsunoda",
         "11",
         "12",
         "0.0"
        ],
        [
         "12",
         "1144",
         "2024",
         "2024-12-08",
         "Abu Dhabi Grand Prix",
         "Guanyu",
         "zhou",
         "15",
         "13",
         "0.0"
        ],
        [
         "13",
         "1144",
         "2024",
         "2024-12-08",
         "Abu Dhabi Grand Prix",
         "Lance",
         "stroll",
         "13",
         "14",
         "0.0"
        ],
        [
         "14",
         "1144",
         "2024",
         "2024-12-08",
         "Abu Dhabi Grand Prix",
         "Jack",
         "doohan",
         "17",
         "15",
         "0.0"
        ],
        [
         "15",
         "1144",
         "2024",
         "2024-12-08",
         "Abu Dhabi Grand Prix",
         "Kevin",
         "kevin_magnussen",
         "14",
         "16",
         "0.0"
        ],
        [
         "16",
         "1144",
         "2024",
         "2024-12-08",
         "Abu Dhabi Grand Prix",
         "Liam",
         "lawson",
         "12",
         "17",
         "0.0"
        ],
        [
         "17",
         "1144",
         "2024",
         "2024-12-08",
         "Abu Dhabi Grand Prix",
         "Sergio",
         "perez",
         "10",
         "999",
         "0.0"
        ],
        [
         "18",
         "1144",
         "2024",
         "2024-12-08",
         "Abu Dhabi Grand Prix",
         "Valtteri",
         "bottas",
         "9",
         "999",
         "0.0"
        ],
        [
         "19",
         "1144",
         "2024",
         "2024-12-08",
         "Abu Dhabi Grand Prix",
         "Franco",
         "colapinto",
         "20",
         "999",
         "0.0"
        ],
        [
         "20",
         "1143",
         "2024",
         "2024-12-01",
         "Qatar Grand Prix",
         "Max",
         "max_verstappen",
         "2",
         "1",
         "25.0"
        ],
        [
         "21",
         "1143",
         "2024",
         "2024-12-01",
         "Qatar Grand Prix",
         "Charles",
         "leclerc",
         "5",
         "2",
         "18.0"
        ],
        [
         "22",
         "1143",
         "2024",
         "2024-12-01",
         "Qatar Grand Prix",
         "Oscar",
         "piastri",
         "4",
         "3",
         "15.0"
        ],
        [
         "23",
         "1143",
         "2024",
         "2024-12-01",
         "Qatar Grand Prix",
         "George",
         "russell",
         "1",
         "4",
         "12.0"
        ],
        [
         "24",
         "1143",
         "2024",
         "2024-12-01",
         "Qatar Grand Prix",
         "Pierre",
         "gasly",
         "11",
         "5",
         "10.0"
        ],
        [
         "25",
         "1143",
         "2024",
         "2024-12-01",
         "Qatar Grand Prix",
         "Carlos",
         "sainz",
         "7",
         "6",
         "8.0"
        ],
        [
         "26",
         "1143",
         "2024",
         "2024-12-01",
         "Qatar Grand Prix",
         "Fernando",
         "alonso",
         "8",
         "7",
         "6.0"
        ],
        [
         "27",
         "1143",
         "2024",
         "2024-12-01",
         "Qatar Grand Prix",
         "Guanyu",
         "zhou",
         "12",
         "8",
         "4.0"
        ],
        [
         "28",
         "1143",
         "2024",
         "2024-12-01",
         "Qatar Grand Prix",
         "Kevin",
         "kevin_magnussen",
         "10",
         "9",
         "2.0"
        ],
        [
         "29",
         "1143",
         "2024",
         "2024-12-01",
         "Qatar Grand Prix",
         "Lando",
         "norris",
         "3",
         "10",
         "2.0"
        ],
        [
         "30",
         "1143",
         "2024",
         "2024-12-01",
         "Qatar Grand Prix",
         "Valtteri",
         "bottas",
         "13",
         "11",
         "0.0"
        ],
        [
         "31",
         "1143",
         "2024",
         "2024-12-01",
         "Qatar Grand Prix",
         "Lewis",
         "hamilton",
         "6",
         "12",
         "0.0"
        ],
        [
         "32",
         "1143",
         "2024",
         "2024-12-01",
         "Qatar Grand Prix",
         "Yuki",
         "tsunoda",
         "14",
         "13",
         "0.0"
        ],
        [
         "33",
         "1143",
         "2024",
         "2024-12-01",
         "Qatar Grand Prix",
         "Liam",
         "lawson",
         "17",
         "14",
         "0.0"
        ],
        [
         "34",
         "1143",
         "2024",
         "2024-12-01",
         "Qatar Grand Prix",
         "Alexander",
         "albon",
         "16",
         "15",
         "0.0"
        ],
        [
         "35",
         "1143",
         "2024",
         "2024-12-01",
         "Qatar Grand Prix",
         "Nico",
         "hulkenberg",
         "18",
         "999",
         "0.0"
        ],
        [
         "36",
         "1143",
         "2024",
         "2024-12-01",
         "Qatar Grand Prix",
         "Sergio",
         "perez",
         "9",
         "999",
         "0.0"
        ],
        [
         "37",
         "1143",
         "2024",
         "2024-12-01",
         "Qatar Grand Prix",
         "Esteban",
         "ocon",
         "20",
         "999",
         "0.0"
        ],
        [
         "38",
         "1143",
         "2024",
         "2024-12-01",
         "Qatar Grand Prix",
         "Lance",
         "stroll",
         "15",
         "999",
         "0.0"
        ],
        [
         "39",
         "1143",
         "2024",
         "2024-12-01",
         "Qatar Grand Prix",
         "Franco",
         "colapinto",
         "19",
         "999",
         "0.0"
        ],
        [
         "40",
         "1142",
         "2024",
         "2024-11-23",
         "Las Vegas Grand Prix",
         "George",
         "russell",
         "1",
         "1",
         "25.0"
        ],
        [
         "41",
         "1142",
         "2024",
         "2024-11-23",
         "Las Vegas Grand Prix",
         "Lewis",
         "hamilton",
         "10",
         "2",
         "18.0"
        ],
        [
         "42",
         "1142",
         "2024",
         "2024-11-23",
         "Las Vegas Grand Prix",
         "Carlos",
         "sainz",
         "2",
         "3",
         "15.0"
        ],
        [
         "43",
         "1142",
         "2024",
         "2024-11-23",
         "Las Vegas Grand Prix",
         "Charles",
         "leclerc",
         "4",
         "4",
         "12.0"
        ],
        [
         "44",
         "1142",
         "2024",
         "2024-11-23",
         "Las Vegas Grand Prix",
         "Max",
         "max_verstappen",
         "5",
         "5",
         "10.0"
        ],
        [
         "45",
         "1142",
         "2024",
         "2024-11-23",
         "Las Vegas Grand Prix",
         "Lando",
         "norris",
         "6",
         "6",
         "9.0"
        ],
        [
         "46",
         "1142",
         "2024",
         "2024-11-23",
         "Las Vegas Grand Prix",
         "Oscar",
         "piastri",
         "8",
         "7",
         "6.0"
        ],
        [
         "47",
         "1142",
         "2024",
         "2024-11-23",
         "Las Vegas Grand Prix",
         "Nico",
         "hulkenberg",
         "9",
         "8",
         "4.0"
        ],
        [
         "48",
         "1142",
         "2024",
         "2024-11-23",
         "Las Vegas Grand Prix",
         "Yuki",
         "tsunoda",
         "7",
         "9",
         "2.0"
        ],
        [
         "49",
         "1142",
         "2024",
         "2024-11-23",
         "Las Vegas Grand Prix",
         "Sergio",
         "perez",
         "15",
         "10",
         "1.0"
        ]
       ],
       "shape": {
        "columns": 9,
        "rows": 479
       }
      },
      "text/html": [
       "<div>\n",
       "<style scoped>\n",
       "    .dataframe tbody tr th:only-of-type {\n",
       "        vertical-align: middle;\n",
       "    }\n",
       "\n",
       "    .dataframe tbody tr th {\n",
       "        vertical-align: top;\n",
       "    }\n",
       "\n",
       "    .dataframe thead th {\n",
       "        text-align: right;\n",
       "    }\n",
       "</style>\n",
       "<table border=\"1\" class=\"dataframe\">\n",
       "  <thead>\n",
       "    <tr style=\"text-align: right;\">\n",
       "      <th></th>\n",
       "      <th>raceId</th>\n",
       "      <th>year</th>\n",
       "      <th>date</th>\n",
       "      <th>name</th>\n",
       "      <th>forename</th>\n",
       "      <th>driverRef</th>\n",
       "      <th>grid</th>\n",
       "      <th>position</th>\n",
       "      <th>points</th>\n",
       "    </tr>\n",
       "  </thead>\n",
       "  <tbody>\n",
       "    <tr>\n",
       "      <th>0</th>\n",
       "      <td>1144</td>\n",
       "      <td>2024</td>\n",
       "      <td>2024-12-08</td>\n",
       "      <td>Abu Dhabi Grand Prix</td>\n",
       "      <td>Lando</td>\n",
       "      <td>norris</td>\n",
       "      <td>1</td>\n",
       "      <td>1</td>\n",
       "      <td>25.0</td>\n",
       "    </tr>\n",
       "    <tr>\n",
       "      <th>1</th>\n",
       "      <td>1144</td>\n",
       "      <td>2024</td>\n",
       "      <td>2024-12-08</td>\n",
       "      <td>Abu Dhabi Grand Prix</td>\n",
       "      <td>Carlos</td>\n",
       "      <td>sainz</td>\n",
       "      <td>3</td>\n",
       "      <td>2</td>\n",
       "      <td>18.0</td>\n",
       "    </tr>\n",
       "    <tr>\n",
       "      <th>2</th>\n",
       "      <td>1144</td>\n",
       "      <td>2024</td>\n",
       "      <td>2024-12-08</td>\n",
       "      <td>Abu Dhabi Grand Prix</td>\n",
       "      <td>Charles</td>\n",
       "      <td>leclerc</td>\n",
       "      <td>19</td>\n",
       "      <td>3</td>\n",
       "      <td>15.0</td>\n",
       "    </tr>\n",
       "    <tr>\n",
       "      <th>3</th>\n",
       "      <td>1144</td>\n",
       "      <td>2024</td>\n",
       "      <td>2024-12-08</td>\n",
       "      <td>Abu Dhabi Grand Prix</td>\n",
       "      <td>Lewis</td>\n",
       "      <td>hamilton</td>\n",
       "      <td>16</td>\n",
       "      <td>4</td>\n",
       "      <td>12.0</td>\n",
       "    </tr>\n",
       "    <tr>\n",
       "      <th>4</th>\n",
       "      <td>1144</td>\n",
       "      <td>2024</td>\n",
       "      <td>2024-12-08</td>\n",
       "      <td>Abu Dhabi Grand Prix</td>\n",
       "      <td>George</td>\n",
       "      <td>russell</td>\n",
       "      <td>6</td>\n",
       "      <td>5</td>\n",
       "      <td>10.0</td>\n",
       "    </tr>\n",
       "    <tr>\n",
       "      <th>...</th>\n",
       "      <td>...</td>\n",
       "      <td>...</td>\n",
       "      <td>...</td>\n",
       "      <td>...</td>\n",
       "      <td>...</td>\n",
       "      <td>...</td>\n",
       "      <td>...</td>\n",
       "      <td>...</td>\n",
       "      <td>...</td>\n",
       "    </tr>\n",
       "    <tr>\n",
       "      <th>474</th>\n",
       "      <td>1121</td>\n",
       "      <td>2024</td>\n",
       "      <td>2024-03-02</td>\n",
       "      <td>Bahrain Grand Prix</td>\n",
       "      <td>Nico</td>\n",
       "      <td>hulkenberg</td>\n",
       "      <td>10</td>\n",
       "      <td>16</td>\n",
       "      <td>0.0</td>\n",
       "    </tr>\n",
       "    <tr>\n",
       "      <th>475</th>\n",
       "      <td>1121</td>\n",
       "      <td>2024</td>\n",
       "      <td>2024-03-02</td>\n",
       "      <td>Bahrain Grand Prix</td>\n",
       "      <td>Esteban</td>\n",
       "      <td>ocon</td>\n",
       "      <td>19</td>\n",
       "      <td>17</td>\n",
       "      <td>0.0</td>\n",
       "    </tr>\n",
       "    <tr>\n",
       "      <th>476</th>\n",
       "      <td>1121</td>\n",
       "      <td>2024</td>\n",
       "      <td>2024-03-02</td>\n",
       "      <td>Bahrain Grand Prix</td>\n",
       "      <td>Pierre</td>\n",
       "      <td>gasly</td>\n",
       "      <td>20</td>\n",
       "      <td>18</td>\n",
       "      <td>0.0</td>\n",
       "    </tr>\n",
       "    <tr>\n",
       "      <th>477</th>\n",
       "      <td>1121</td>\n",
       "      <td>2024</td>\n",
       "      <td>2024-03-02</td>\n",
       "      <td>Bahrain Grand Prix</td>\n",
       "      <td>Valtteri</td>\n",
       "      <td>bottas</td>\n",
       "      <td>16</td>\n",
       "      <td>19</td>\n",
       "      <td>0.0</td>\n",
       "    </tr>\n",
       "    <tr>\n",
       "      <th>478</th>\n",
       "      <td>1121</td>\n",
       "      <td>2024</td>\n",
       "      <td>2024-03-02</td>\n",
       "      <td>Bahrain Grand Prix</td>\n",
       "      <td>Logan</td>\n",
       "      <td>sargeant</td>\n",
       "      <td>18</td>\n",
       "      <td>20</td>\n",
       "      <td>0.0</td>\n",
       "    </tr>\n",
       "  </tbody>\n",
       "</table>\n",
       "<p>479 rows × 9 columns</p>\n",
       "</div>"
      ],
      "text/plain": [
       "     raceId  year        date                  name  forename   driverRef  \\\n",
       "0      1144  2024  2024-12-08  Abu Dhabi Grand Prix     Lando      norris   \n",
       "1      1144  2024  2024-12-08  Abu Dhabi Grand Prix    Carlos       sainz   \n",
       "2      1144  2024  2024-12-08  Abu Dhabi Grand Prix   Charles     leclerc   \n",
       "3      1144  2024  2024-12-08  Abu Dhabi Grand Prix     Lewis    hamilton   \n",
       "4      1144  2024  2024-12-08  Abu Dhabi Grand Prix    George     russell   \n",
       "..      ...   ...         ...                   ...       ...         ...   \n",
       "474    1121  2024  2024-03-02    Bahrain Grand Prix      Nico  hulkenberg   \n",
       "475    1121  2024  2024-03-02    Bahrain Grand Prix   Esteban        ocon   \n",
       "476    1121  2024  2024-03-02    Bahrain Grand Prix    Pierre       gasly   \n",
       "477    1121  2024  2024-03-02    Bahrain Grand Prix  Valtteri      bottas   \n",
       "478    1121  2024  2024-03-02    Bahrain Grand Prix     Logan    sargeant   \n",
       "\n",
       "     grid  position  points  \n",
       "0       1         1    25.0  \n",
       "1       3         2    18.0  \n",
       "2      19         3    15.0  \n",
       "3      16         4    12.0  \n",
       "4       6         5    10.0  \n",
       "..    ...       ...     ...  \n",
       "474    10        16     0.0  \n",
       "475    19        17     0.0  \n",
       "476    20        18     0.0  \n",
       "477    16        19     0.0  \n",
       "478    18        20     0.0  \n",
       "\n",
       "[479 rows x 9 columns]"
      ]
     },
     "execution_count": 11,
     "metadata": {},
     "output_type": "execute_result"
    }
   ],
   "source": [
    "Graph2024 = df[df['year'] == 2024]\n",
    "Graph2024"
   ]
  },
  {
   "cell_type": "code",
   "execution_count": null,
   "id": "6282e469",
   "metadata": {},
   "outputs": [],
   "source": [
    "names2024 = set(Graph2024['forename'].unique())"
   ]
  },
  {
   "cell_type": "code",
   "execution_count": null,
   "id": "c9508ab2",
   "metadata": {},
   "outputs": [],
   "source": [
    "names2024"
   ]
  },
  {
   "cell_type": "code",
   "execution_count": 15,
   "id": "c78113a8",
   "metadata": {},
   "outputs": [],
   "source": [
    "Wins2024 = Graph2024[Graph2024['position'] == 1]['forename'].value_counts()"
   ]
  },
  {
   "cell_type": "code",
   "execution_count": 22,
   "id": "ed6eabb2",
   "metadata": {},
   "outputs": [
    {
     "data": {
      "application/vnd.microsoft.datawrangler.viewer.v0+json": {
       "columns": [
        {
         "name": "forename",
         "rawType": "object",
         "type": "string"
        },
        {
         "name": "count",
         "rawType": "int64",
         "type": "integer"
        }
       ],
       "ref": "aa0f88d7-5684-45ac-922c-fb53dc9db731",
       "rows": [
        [
         "Max",
         "9"
        ],
        [
         "Lando",
         "4"
        ],
        [
         "Charles",
         "3"
        ],
        [
         "George",
         "2"
        ],
        [
         "Carlos",
         "2"
        ],
        [
         "Oscar",
         "2"
        ],
        [
         "Lewis",
         "2"
        ]
       ],
       "shape": {
        "columns": 1,
        "rows": 7
       }
      },
      "text/plain": [
       "forename\n",
       "Max        9\n",
       "Lando      4\n",
       "Charles    3\n",
       "George     2\n",
       "Carlos     2\n",
       "Oscar      2\n",
       "Lewis      2\n",
       "Name: count, dtype: int64"
      ]
     },
     "execution_count": 22,
     "metadata": {},
     "output_type": "execute_result"
    }
   ],
   "source": [
    "Wins2024"
   ]
  },
  {
   "cell_type": "code",
   "execution_count": 19,
   "id": "67313672",
   "metadata": {},
   "outputs": [
    {
     "ename": "TypeError",
     "evalue": "Series.rename() got an unexpected keyword argument 'columns'",
     "output_type": "error",
     "traceback": [
      "\u001b[31m---------------------------------------------------------------------------\u001b[39m",
      "\u001b[31mTypeError\u001b[39m                                 Traceback (most recent call last)",
      "\u001b[36mCell\u001b[39m\u001b[36m \u001b[39m\u001b[32mIn[19]\u001b[39m\u001b[32m, line 1\u001b[39m\n\u001b[32m----> \u001b[39m\u001b[32m1\u001b[39m \u001b[43mWins2024\u001b[49m\u001b[43m.\u001b[49m\u001b[43mrename\u001b[49m\u001b[43m(\u001b[49m\u001b[43mcolumns\u001b[49m\u001b[43m=\u001b[49m\u001b[43m{\u001b[49m\u001b[33;43m'\u001b[39;49m\u001b[33;43mcounts\u001b[39;49m\u001b[33;43m'\u001b[39;49m\u001b[43m:\u001b[49m\u001b[33;43m'\u001b[39;49m\u001b[33;43mwins\u001b[39;49m\u001b[33;43m'\u001b[39;49m\u001b[43m}\u001b[49m\u001b[43m,\u001b[49m\u001b[43m \u001b[49m\u001b[43minplace\u001b[49m\u001b[43m=\u001b[49m\u001b[38;5;28;43;01mTrue\u001b[39;49;00m\u001b[43m)\u001b[49m\n",
      "\u001b[31mTypeError\u001b[39m: Series.rename() got an unexpected keyword argument 'columns'"
     ]
    }
   ],
   "source": [
    "Wins2024.rename(columns={'counts':'wins'}, inplace=True)"
   ]
  }
 ],
 "metadata": {
  "kernelspec": {
   "display_name": "Python 3",
   "language": "python",
   "name": "python3"
  },
  "language_info": {
   "codemirror_mode": {
    "name": "ipython",
    "version": 3
   },
   "file_extension": ".py",
   "mimetype": "text/x-python",
   "name": "python",
   "nbconvert_exporter": "python",
   "pygments_lexer": "ipython3",
   "version": "3.12.1"
  }
 },
 "nbformat": 4,
 "nbformat_minor": 5
}
