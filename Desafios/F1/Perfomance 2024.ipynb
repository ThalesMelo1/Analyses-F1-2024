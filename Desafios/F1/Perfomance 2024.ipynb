{
 "cells": [
  {
   "cell_type": "code",
   "execution_count": 2,
   "id": "0dfa139e",
   "metadata": {},
   "outputs": [],
   "source": [
    "import pandas as pd\n",
    "import numpy as np\n",
    "import matplotlib.pyplot as plt"
   ]
  },
  {
   "cell_type": "code",
   "execution_count": 3,
   "id": "29e5e345",
   "metadata": {},
   "outputs": [],
   "source": [
    "df = pd.read_csv('/workspaces/Repository_Data_Science_Challenges/Desafios/F1/Data/Base.csv')"
   ]
  },
  {
   "cell_type": "code",
   "execution_count": 4,
   "id": "da2da819",
   "metadata": {},
   "outputs": [],
   "source": [
    "Perf = df[df['year'] == 2024]\n",
    "Perf = Perf[['forename', 'position', 'grid', 'date', 'name']]"
   ]
  },
  {
   "cell_type": "code",
   "execution_count": 5,
   "id": "b91ffa53",
   "metadata": {},
   "outputs": [
    {
     "data": {
      "application/vnd.microsoft.datawrangler.viewer.v0+json": {
       "columns": [
        {
         "name": "index",
         "rawType": "int64",
         "type": "integer"
        },
        {
         "name": "forename",
         "rawType": "object",
         "type": "string"
        },
        {
         "name": "position",
         "rawType": "int64",
         "type": "integer"
        },
        {
         "name": "grid",
         "rawType": "int64",
         "type": "integer"
        },
        {
         "name": "date",
         "rawType": "object",
         "type": "string"
        },
        {
         "name": "name",
         "rawType": "object",
         "type": "string"
        }
       ],
       "ref": "fefa024a-5361-4999-9a74-906eea286019",
       "rows": [
        [
         "0",
         "Lando",
         "1",
         "1",
         "2024-12-08",
         "Abu Dhabi Grand Prix"
        ],
        [
         "1",
         "Carlos",
         "2",
         "3",
         "2024-12-08",
         "Abu Dhabi Grand Prix"
        ],
        [
         "2",
         "Charles",
         "3",
         "19",
         "2024-12-08",
         "Abu Dhabi Grand Prix"
        ],
        [
         "3",
         "Lewis",
         "4",
         "16",
         "2024-12-08",
         "Abu Dhabi Grand Prix"
        ],
        [
         "4",
         "George",
         "5",
         "6",
         "2024-12-08",
         "Abu Dhabi Grand Prix"
        ],
        [
         "5",
         "Max",
         "6",
         "4",
         "2024-12-08",
         "Abu Dhabi Grand Prix"
        ],
        [
         "6",
         "Pierre",
         "7",
         "5",
         "2024-12-08",
         "Abu Dhabi Grand Prix"
        ],
        [
         "7",
         "Nico",
         "8",
         "7",
         "2024-12-08",
         "Abu Dhabi Grand Prix"
        ],
        [
         "8",
         "Fernando",
         "9",
         "8",
         "2024-12-08",
         "Abu Dhabi Grand Prix"
        ],
        [
         "9",
         "Oscar",
         "10",
         "2",
         "2024-12-08",
         "Abu Dhabi Grand Prix"
        ],
        [
         "10",
         "Alexander",
         "11",
         "18",
         "2024-12-08",
         "Abu Dhabi Grand Prix"
        ],
        [
         "11",
         "Yuki",
         "12",
         "11",
         "2024-12-08",
         "Abu Dhabi Grand Prix"
        ],
        [
         "12",
         "Guanyu",
         "13",
         "15",
         "2024-12-08",
         "Abu Dhabi Grand Prix"
        ],
        [
         "13",
         "Lance",
         "14",
         "13",
         "2024-12-08",
         "Abu Dhabi Grand Prix"
        ],
        [
         "14",
         "Jack",
         "15",
         "17",
         "2024-12-08",
         "Abu Dhabi Grand Prix"
        ],
        [
         "15",
         "Kevin",
         "16",
         "14",
         "2024-12-08",
         "Abu Dhabi Grand Prix"
        ],
        [
         "16",
         "Liam",
         "17",
         "12",
         "2024-12-08",
         "Abu Dhabi Grand Prix"
        ],
        [
         "17",
         "Sergio",
         "999",
         "10",
         "2024-12-08",
         "Abu Dhabi Grand Prix"
        ],
        [
         "18",
         "Valtteri",
         "999",
         "9",
         "2024-12-08",
         "Abu Dhabi Grand Prix"
        ],
        [
         "19",
         "Franco",
         "999",
         "20",
         "2024-12-08",
         "Abu Dhabi Grand Prix"
        ],
        [
         "20",
         "Max",
         "1",
         "2",
         "2024-12-01",
         "Qatar Grand Prix"
        ],
        [
         "21",
         "Charles",
         "2",
         "5",
         "2024-12-01",
         "Qatar Grand Prix"
        ],
        [
         "22",
         "Oscar",
         "3",
         "4",
         "2024-12-01",
         "Qatar Grand Prix"
        ],
        [
         "23",
         "George",
         "4",
         "1",
         "2024-12-01",
         "Qatar Grand Prix"
        ],
        [
         "24",
         "Pierre",
         "5",
         "11",
         "2024-12-01",
         "Qatar Grand Prix"
        ],
        [
         "25",
         "Carlos",
         "6",
         "7",
         "2024-12-01",
         "Qatar Grand Prix"
        ],
        [
         "26",
         "Fernando",
         "7",
         "8",
         "2024-12-01",
         "Qatar Grand Prix"
        ],
        [
         "27",
         "Guanyu",
         "8",
         "12",
         "2024-12-01",
         "Qatar Grand Prix"
        ],
        [
         "28",
         "Kevin",
         "9",
         "10",
         "2024-12-01",
         "Qatar Grand Prix"
        ],
        [
         "29",
         "Lando",
         "10",
         "3",
         "2024-12-01",
         "Qatar Grand Prix"
        ],
        [
         "30",
         "Valtteri",
         "11",
         "13",
         "2024-12-01",
         "Qatar Grand Prix"
        ],
        [
         "31",
         "Lewis",
         "12",
         "6",
         "2024-12-01",
         "Qatar Grand Prix"
        ],
        [
         "32",
         "Yuki",
         "13",
         "14",
         "2024-12-01",
         "Qatar Grand Prix"
        ],
        [
         "33",
         "Liam",
         "14",
         "17",
         "2024-12-01",
         "Qatar Grand Prix"
        ],
        [
         "34",
         "Alexander",
         "15",
         "16",
         "2024-12-01",
         "Qatar Grand Prix"
        ],
        [
         "35",
         "Nico",
         "999",
         "18",
         "2024-12-01",
         "Qatar Grand Prix"
        ],
        [
         "36",
         "Sergio",
         "999",
         "9",
         "2024-12-01",
         "Qatar Grand Prix"
        ],
        [
         "37",
         "Esteban",
         "999",
         "20",
         "2024-12-01",
         "Qatar Grand Prix"
        ],
        [
         "38",
         "Lance",
         "999",
         "15",
         "2024-12-01",
         "Qatar Grand Prix"
        ],
        [
         "39",
         "Franco",
         "999",
         "19",
         "2024-12-01",
         "Qatar Grand Prix"
        ],
        [
         "40",
         "George",
         "1",
         "1",
         "2024-11-23",
         "Las Vegas Grand Prix"
        ],
        [
         "41",
         "Lewis",
         "2",
         "10",
         "2024-11-23",
         "Las Vegas Grand Prix"
        ],
        [
         "42",
         "Carlos",
         "3",
         "2",
         "2024-11-23",
         "Las Vegas Grand Prix"
        ],
        [
         "43",
         "Charles",
         "4",
         "4",
         "2024-11-23",
         "Las Vegas Grand Prix"
        ],
        [
         "44",
         "Max",
         "5",
         "5",
         "2024-11-23",
         "Las Vegas Grand Prix"
        ],
        [
         "45",
         "Lando",
         "6",
         "6",
         "2024-11-23",
         "Las Vegas Grand Prix"
        ],
        [
         "46",
         "Oscar",
         "7",
         "8",
         "2024-11-23",
         "Las Vegas Grand Prix"
        ],
        [
         "47",
         "Nico",
         "8",
         "9",
         "2024-11-23",
         "Las Vegas Grand Prix"
        ],
        [
         "48",
         "Yuki",
         "9",
         "7",
         "2024-11-23",
         "Las Vegas Grand Prix"
        ],
        [
         "49",
         "Sergio",
         "10",
         "15",
         "2024-11-23",
         "Las Vegas Grand Prix"
        ]
       ],
       "shape": {
        "columns": 5,
        "rows": 479
       }
      },
      "text/html": [
       "<div>\n",
       "<style scoped>\n",
       "    .dataframe tbody tr th:only-of-type {\n",
       "        vertical-align: middle;\n",
       "    }\n",
       "\n",
       "    .dataframe tbody tr th {\n",
       "        vertical-align: top;\n",
       "    }\n",
       "\n",
       "    .dataframe thead th {\n",
       "        text-align: right;\n",
       "    }\n",
       "</style>\n",
       "<table border=\"1\" class=\"dataframe\">\n",
       "  <thead>\n",
       "    <tr style=\"text-align: right;\">\n",
       "      <th></th>\n",
       "      <th>forename</th>\n",
       "      <th>position</th>\n",
       "      <th>grid</th>\n",
       "      <th>date</th>\n",
       "      <th>name</th>\n",
       "    </tr>\n",
       "  </thead>\n",
       "  <tbody>\n",
       "    <tr>\n",
       "      <th>0</th>\n",
       "      <td>Lando</td>\n",
       "      <td>1</td>\n",
       "      <td>1</td>\n",
       "      <td>2024-12-08</td>\n",
       "      <td>Abu Dhabi Grand Prix</td>\n",
       "    </tr>\n",
       "    <tr>\n",
       "      <th>1</th>\n",
       "      <td>Carlos</td>\n",
       "      <td>2</td>\n",
       "      <td>3</td>\n",
       "      <td>2024-12-08</td>\n",
       "      <td>Abu Dhabi Grand Prix</td>\n",
       "    </tr>\n",
       "    <tr>\n",
       "      <th>2</th>\n",
       "      <td>Charles</td>\n",
       "      <td>3</td>\n",
       "      <td>19</td>\n",
       "      <td>2024-12-08</td>\n",
       "      <td>Abu Dhabi Grand Prix</td>\n",
       "    </tr>\n",
       "    <tr>\n",
       "      <th>3</th>\n",
       "      <td>Lewis</td>\n",
       "      <td>4</td>\n",
       "      <td>16</td>\n",
       "      <td>2024-12-08</td>\n",
       "      <td>Abu Dhabi Grand Prix</td>\n",
       "    </tr>\n",
       "    <tr>\n",
       "      <th>4</th>\n",
       "      <td>George</td>\n",
       "      <td>5</td>\n",
       "      <td>6</td>\n",
       "      <td>2024-12-08</td>\n",
       "      <td>Abu Dhabi Grand Prix</td>\n",
       "    </tr>\n",
       "    <tr>\n",
       "      <th>...</th>\n",
       "      <td>...</td>\n",
       "      <td>...</td>\n",
       "      <td>...</td>\n",
       "      <td>...</td>\n",
       "      <td>...</td>\n",
       "    </tr>\n",
       "    <tr>\n",
       "      <th>474</th>\n",
       "      <td>Nico</td>\n",
       "      <td>16</td>\n",
       "      <td>10</td>\n",
       "      <td>2024-03-02</td>\n",
       "      <td>Bahrain Grand Prix</td>\n",
       "    </tr>\n",
       "    <tr>\n",
       "      <th>475</th>\n",
       "      <td>Esteban</td>\n",
       "      <td>17</td>\n",
       "      <td>19</td>\n",
       "      <td>2024-03-02</td>\n",
       "      <td>Bahrain Grand Prix</td>\n",
       "    </tr>\n",
       "    <tr>\n",
       "      <th>476</th>\n",
       "      <td>Pierre</td>\n",
       "      <td>18</td>\n",
       "      <td>20</td>\n",
       "      <td>2024-03-02</td>\n",
       "      <td>Bahrain Grand Prix</td>\n",
       "    </tr>\n",
       "    <tr>\n",
       "      <th>477</th>\n",
       "      <td>Valtteri</td>\n",
       "      <td>19</td>\n",
       "      <td>16</td>\n",
       "      <td>2024-03-02</td>\n",
       "      <td>Bahrain Grand Prix</td>\n",
       "    </tr>\n",
       "    <tr>\n",
       "      <th>478</th>\n",
       "      <td>Logan</td>\n",
       "      <td>20</td>\n",
       "      <td>18</td>\n",
       "      <td>2024-03-02</td>\n",
       "      <td>Bahrain Grand Prix</td>\n",
       "    </tr>\n",
       "  </tbody>\n",
       "</table>\n",
       "<p>479 rows × 5 columns</p>\n",
       "</div>"
      ],
      "text/plain": [
       "     forename  position  grid        date                  name\n",
       "0       Lando         1     1  2024-12-08  Abu Dhabi Grand Prix\n",
       "1      Carlos         2     3  2024-12-08  Abu Dhabi Grand Prix\n",
       "2     Charles         3    19  2024-12-08  Abu Dhabi Grand Prix\n",
       "3       Lewis         4    16  2024-12-08  Abu Dhabi Grand Prix\n",
       "4      George         5     6  2024-12-08  Abu Dhabi Grand Prix\n",
       "..        ...       ...   ...         ...                   ...\n",
       "474      Nico        16    10  2024-03-02    Bahrain Grand Prix\n",
       "475   Esteban        17    19  2024-03-02    Bahrain Grand Prix\n",
       "476    Pierre        18    20  2024-03-02    Bahrain Grand Prix\n",
       "477  Valtteri        19    16  2024-03-02    Bahrain Grand Prix\n",
       "478     Logan        20    18  2024-03-02    Bahrain Grand Prix\n",
       "\n",
       "[479 rows x 5 columns]"
      ]
     },
     "execution_count": 5,
     "metadata": {},
     "output_type": "execute_result"
    }
   ],
   "source": [
    "Perf"
   ]
  },
  {
   "cell_type": "markdown",
   "id": "0ef4d6f3",
   "metadata": {},
   "source": [
    "Decidi que não tiraria ponto daqueles que tiveram DNF por não saber a causa"
   ]
  },
  {
   "cell_type": "code",
   "execution_count": 6,
   "id": "cb83056a",
   "metadata": {},
   "outputs": [],
   "source": [
    "Perf['Perfomance'] = Perf.apply(\n",
    "    lambda row: row['grid'] - row['position'] if row['position'] != 999 else 0,\n",
    "    axis=1\n",
    ")"
   ]
  },
  {
   "cell_type": "code",
   "execution_count": 7,
   "id": "7e4704e7",
   "metadata": {},
   "outputs": [
    {
     "data": {
      "application/vnd.microsoft.datawrangler.viewer.v0+json": {
       "columns": [
        {
         "name": "index",
         "rawType": "int64",
         "type": "integer"
        },
        {
         "name": "forename",
         "rawType": "object",
         "type": "string"
        },
        {
         "name": "position",
         "rawType": "int64",
         "type": "integer"
        },
        {
         "name": "grid",
         "rawType": "int64",
         "type": "integer"
        },
        {
         "name": "date",
         "rawType": "object",
         "type": "string"
        },
        {
         "name": "name",
         "rawType": "object",
         "type": "string"
        },
        {
         "name": "Perfomance",
         "rawType": "int64",
         "type": "integer"
        }
       ],
       "ref": "5bd222c4-926f-4e18-b54f-209aaed03c22",
       "rows": [
        [
         "0",
         "Lando",
         "1",
         "1",
         "2024-12-08",
         "Abu Dhabi Grand Prix",
         "0"
        ],
        [
         "1",
         "Carlos",
         "2",
         "3",
         "2024-12-08",
         "Abu Dhabi Grand Prix",
         "1"
        ],
        [
         "2",
         "Charles",
         "3",
         "19",
         "2024-12-08",
         "Abu Dhabi Grand Prix",
         "16"
        ],
        [
         "3",
         "Lewis",
         "4",
         "16",
         "2024-12-08",
         "Abu Dhabi Grand Prix",
         "12"
        ],
        [
         "4",
         "George",
         "5",
         "6",
         "2024-12-08",
         "Abu Dhabi Grand Prix",
         "1"
        ],
        [
         "5",
         "Max",
         "6",
         "4",
         "2024-12-08",
         "Abu Dhabi Grand Prix",
         "-2"
        ],
        [
         "6",
         "Pierre",
         "7",
         "5",
         "2024-12-08",
         "Abu Dhabi Grand Prix",
         "-2"
        ],
        [
         "7",
         "Nico",
         "8",
         "7",
         "2024-12-08",
         "Abu Dhabi Grand Prix",
         "-1"
        ],
        [
         "8",
         "Fernando",
         "9",
         "8",
         "2024-12-08",
         "Abu Dhabi Grand Prix",
         "-1"
        ],
        [
         "9",
         "Oscar",
         "10",
         "2",
         "2024-12-08",
         "Abu Dhabi Grand Prix",
         "-8"
        ],
        [
         "10",
         "Alexander",
         "11",
         "18",
         "2024-12-08",
         "Abu Dhabi Grand Prix",
         "7"
        ],
        [
         "11",
         "Yuki",
         "12",
         "11",
         "2024-12-08",
         "Abu Dhabi Grand Prix",
         "-1"
        ],
        [
         "12",
         "Guanyu",
         "13",
         "15",
         "2024-12-08",
         "Abu Dhabi Grand Prix",
         "2"
        ],
        [
         "13",
         "Lance",
         "14",
         "13",
         "2024-12-08",
         "Abu Dhabi Grand Prix",
         "-1"
        ],
        [
         "14",
         "Jack",
         "15",
         "17",
         "2024-12-08",
         "Abu Dhabi Grand Prix",
         "2"
        ],
        [
         "15",
         "Kevin",
         "16",
         "14",
         "2024-12-08",
         "Abu Dhabi Grand Prix",
         "-2"
        ],
        [
         "16",
         "Liam",
         "17",
         "12",
         "2024-12-08",
         "Abu Dhabi Grand Prix",
         "-5"
        ],
        [
         "17",
         "Sergio",
         "999",
         "10",
         "2024-12-08",
         "Abu Dhabi Grand Prix",
         "0"
        ],
        [
         "18",
         "Valtteri",
         "999",
         "9",
         "2024-12-08",
         "Abu Dhabi Grand Prix",
         "0"
        ],
        [
         "19",
         "Franco",
         "999",
         "20",
         "2024-12-08",
         "Abu Dhabi Grand Prix",
         "0"
        ],
        [
         "20",
         "Max",
         "1",
         "2",
         "2024-12-01",
         "Qatar Grand Prix",
         "1"
        ],
        [
         "21",
         "Charles",
         "2",
         "5",
         "2024-12-01",
         "Qatar Grand Prix",
         "3"
        ],
        [
         "22",
         "Oscar",
         "3",
         "4",
         "2024-12-01",
         "Qatar Grand Prix",
         "1"
        ],
        [
         "23",
         "George",
         "4",
         "1",
         "2024-12-01",
         "Qatar Grand Prix",
         "-3"
        ],
        [
         "24",
         "Pierre",
         "5",
         "11",
         "2024-12-01",
         "Qatar Grand Prix",
         "6"
        ],
        [
         "25",
         "Carlos",
         "6",
         "7",
         "2024-12-01",
         "Qatar Grand Prix",
         "1"
        ],
        [
         "26",
         "Fernando",
         "7",
         "8",
         "2024-12-01",
         "Qatar Grand Prix",
         "1"
        ],
        [
         "27",
         "Guanyu",
         "8",
         "12",
         "2024-12-01",
         "Qatar Grand Prix",
         "4"
        ],
        [
         "28",
         "Kevin",
         "9",
         "10",
         "2024-12-01",
         "Qatar Grand Prix",
         "1"
        ],
        [
         "29",
         "Lando",
         "10",
         "3",
         "2024-12-01",
         "Qatar Grand Prix",
         "-7"
        ],
        [
         "30",
         "Valtteri",
         "11",
         "13",
         "2024-12-01",
         "Qatar Grand Prix",
         "2"
        ],
        [
         "31",
         "Lewis",
         "12",
         "6",
         "2024-12-01",
         "Qatar Grand Prix",
         "-6"
        ],
        [
         "32",
         "Yuki",
         "13",
         "14",
         "2024-12-01",
         "Qatar Grand Prix",
         "1"
        ],
        [
         "33",
         "Liam",
         "14",
         "17",
         "2024-12-01",
         "Qatar Grand Prix",
         "3"
        ],
        [
         "34",
         "Alexander",
         "15",
         "16",
         "2024-12-01",
         "Qatar Grand Prix",
         "1"
        ],
        [
         "35",
         "Nico",
         "999",
         "18",
         "2024-12-01",
         "Qatar Grand Prix",
         "0"
        ],
        [
         "36",
         "Sergio",
         "999",
         "9",
         "2024-12-01",
         "Qatar Grand Prix",
         "0"
        ],
        [
         "37",
         "Esteban",
         "999",
         "20",
         "2024-12-01",
         "Qatar Grand Prix",
         "0"
        ],
        [
         "38",
         "Lance",
         "999",
         "15",
         "2024-12-01",
         "Qatar Grand Prix",
         "0"
        ],
        [
         "39",
         "Franco",
         "999",
         "19",
         "2024-12-01",
         "Qatar Grand Prix",
         "0"
        ],
        [
         "40",
         "George",
         "1",
         "1",
         "2024-11-23",
         "Las Vegas Grand Prix",
         "0"
        ],
        [
         "41",
         "Lewis",
         "2",
         "10",
         "2024-11-23",
         "Las Vegas Grand Prix",
         "8"
        ],
        [
         "42",
         "Carlos",
         "3",
         "2",
         "2024-11-23",
         "Las Vegas Grand Prix",
         "-1"
        ],
        [
         "43",
         "Charles",
         "4",
         "4",
         "2024-11-23",
         "Las Vegas Grand Prix",
         "0"
        ],
        [
         "44",
         "Max",
         "5",
         "5",
         "2024-11-23",
         "Las Vegas Grand Prix",
         "0"
        ],
        [
         "45",
         "Lando",
         "6",
         "6",
         "2024-11-23",
         "Las Vegas Grand Prix",
         "0"
        ],
        [
         "46",
         "Oscar",
         "7",
         "8",
         "2024-11-23",
         "Las Vegas Grand Prix",
         "1"
        ],
        [
         "47",
         "Nico",
         "8",
         "9",
         "2024-11-23",
         "Las Vegas Grand Prix",
         "1"
        ],
        [
         "48",
         "Yuki",
         "9",
         "7",
         "2024-11-23",
         "Las Vegas Grand Prix",
         "-2"
        ],
        [
         "49",
         "Sergio",
         "10",
         "15",
         "2024-11-23",
         "Las Vegas Grand Prix",
         "5"
        ]
       ],
       "shape": {
        "columns": 6,
        "rows": 479
       }
      },
      "text/html": [
       "<div>\n",
       "<style scoped>\n",
       "    .dataframe tbody tr th:only-of-type {\n",
       "        vertical-align: middle;\n",
       "    }\n",
       "\n",
       "    .dataframe tbody tr th {\n",
       "        vertical-align: top;\n",
       "    }\n",
       "\n",
       "    .dataframe thead th {\n",
       "        text-align: right;\n",
       "    }\n",
       "</style>\n",
       "<table border=\"1\" class=\"dataframe\">\n",
       "  <thead>\n",
       "    <tr style=\"text-align: right;\">\n",
       "      <th></th>\n",
       "      <th>forename</th>\n",
       "      <th>position</th>\n",
       "      <th>grid</th>\n",
       "      <th>date</th>\n",
       "      <th>name</th>\n",
       "      <th>Perfomance</th>\n",
       "    </tr>\n",
       "  </thead>\n",
       "  <tbody>\n",
       "    <tr>\n",
       "      <th>0</th>\n",
       "      <td>Lando</td>\n",
       "      <td>1</td>\n",
       "      <td>1</td>\n",
       "      <td>2024-12-08</td>\n",
       "      <td>Abu Dhabi Grand Prix</td>\n",
       "      <td>0</td>\n",
       "    </tr>\n",
       "    <tr>\n",
       "      <th>1</th>\n",
       "      <td>Carlos</td>\n",
       "      <td>2</td>\n",
       "      <td>3</td>\n",
       "      <td>2024-12-08</td>\n",
       "      <td>Abu Dhabi Grand Prix</td>\n",
       "      <td>1</td>\n",
       "    </tr>\n",
       "    <tr>\n",
       "      <th>2</th>\n",
       "      <td>Charles</td>\n",
       "      <td>3</td>\n",
       "      <td>19</td>\n",
       "      <td>2024-12-08</td>\n",
       "      <td>Abu Dhabi Grand Prix</td>\n",
       "      <td>16</td>\n",
       "    </tr>\n",
       "    <tr>\n",
       "      <th>3</th>\n",
       "      <td>Lewis</td>\n",
       "      <td>4</td>\n",
       "      <td>16</td>\n",
       "      <td>2024-12-08</td>\n",
       "      <td>Abu Dhabi Grand Prix</td>\n",
       "      <td>12</td>\n",
       "    </tr>\n",
       "    <tr>\n",
       "      <th>4</th>\n",
       "      <td>George</td>\n",
       "      <td>5</td>\n",
       "      <td>6</td>\n",
       "      <td>2024-12-08</td>\n",
       "      <td>Abu Dhabi Grand Prix</td>\n",
       "      <td>1</td>\n",
       "    </tr>\n",
       "    <tr>\n",
       "      <th>...</th>\n",
       "      <td>...</td>\n",
       "      <td>...</td>\n",
       "      <td>...</td>\n",
       "      <td>...</td>\n",
       "      <td>...</td>\n",
       "      <td>...</td>\n",
       "    </tr>\n",
       "    <tr>\n",
       "      <th>474</th>\n",
       "      <td>Nico</td>\n",
       "      <td>16</td>\n",
       "      <td>10</td>\n",
       "      <td>2024-03-02</td>\n",
       "      <td>Bahrain Grand Prix</td>\n",
       "      <td>-6</td>\n",
       "    </tr>\n",
       "    <tr>\n",
       "      <th>475</th>\n",
       "      <td>Esteban</td>\n",
       "      <td>17</td>\n",
       "      <td>19</td>\n",
       "      <td>2024-03-02</td>\n",
       "      <td>Bahrain Grand Prix</td>\n",
       "      <td>2</td>\n",
       "    </tr>\n",
       "    <tr>\n",
       "      <th>476</th>\n",
       "      <td>Pierre</td>\n",
       "      <td>18</td>\n",
       "      <td>20</td>\n",
       "      <td>2024-03-02</td>\n",
       "      <td>Bahrain Grand Prix</td>\n",
       "      <td>2</td>\n",
       "    </tr>\n",
       "    <tr>\n",
       "      <th>477</th>\n",
       "      <td>Valtteri</td>\n",
       "      <td>19</td>\n",
       "      <td>16</td>\n",
       "      <td>2024-03-02</td>\n",
       "      <td>Bahrain Grand Prix</td>\n",
       "      <td>-3</td>\n",
       "    </tr>\n",
       "    <tr>\n",
       "      <th>478</th>\n",
       "      <td>Logan</td>\n",
       "      <td>20</td>\n",
       "      <td>18</td>\n",
       "      <td>2024-03-02</td>\n",
       "      <td>Bahrain Grand Prix</td>\n",
       "      <td>-2</td>\n",
       "    </tr>\n",
       "  </tbody>\n",
       "</table>\n",
       "<p>479 rows × 6 columns</p>\n",
       "</div>"
      ],
      "text/plain": [
       "     forename  position  grid        date                  name  Perfomance\n",
       "0       Lando         1     1  2024-12-08  Abu Dhabi Grand Prix           0\n",
       "1      Carlos         2     3  2024-12-08  Abu Dhabi Grand Prix           1\n",
       "2     Charles         3    19  2024-12-08  Abu Dhabi Grand Prix          16\n",
       "3       Lewis         4    16  2024-12-08  Abu Dhabi Grand Prix          12\n",
       "4      George         5     6  2024-12-08  Abu Dhabi Grand Prix           1\n",
       "..        ...       ...   ...         ...                   ...         ...\n",
       "474      Nico        16    10  2024-03-02    Bahrain Grand Prix          -6\n",
       "475   Esteban        17    19  2024-03-02    Bahrain Grand Prix           2\n",
       "476    Pierre        18    20  2024-03-02    Bahrain Grand Prix           2\n",
       "477  Valtteri        19    16  2024-03-02    Bahrain Grand Prix          -3\n",
       "478     Logan        20    18  2024-03-02    Bahrain Grand Prix          -2\n",
       "\n",
       "[479 rows x 6 columns]"
      ]
     },
     "execution_count": 7,
     "metadata": {},
     "output_type": "execute_result"
    }
   ],
   "source": [
    "Perf"
   ]
  },
  {
   "cell_type": "code",
   "execution_count": 8,
   "id": "8730503c",
   "metadata": {},
   "outputs": [],
   "source": [
    "SomaPerfomance = Perf.groupby('forename', as_index=False)['Perfomance'].sum()\n",
    "SomaPerfomance = SomaPerfomance.sort_values(by='Perfomance', ascending=False)"
   ]
  },
  {
   "cell_type": "code",
   "execution_count": 9,
   "id": "ae0a5af1",
   "metadata": {},
   "outputs": [
    {
     "data": {
      "application/vnd.microsoft.datawrangler.viewer.v0+json": {
       "columns": [
        {
         "name": "index",
         "rawType": "int64",
         "type": "integer"
        },
        {
         "name": "forename",
         "rawType": "object",
         "type": "string"
        },
        {
         "name": "Perfomance",
         "rawType": "int64",
         "type": "integer"
        }
       ],
       "ref": "71c717e2-28eb-4d2c-b090-cef7f9c4161d",
       "rows": [
        [
         "13",
         "Lewis",
         "36"
        ],
        [
         "2",
         "Charles",
         "29"
        ],
        [
         "8",
         "Guanyu",
         "28"
        ],
        [
         "20",
         "Pierre",
         "26"
        ],
        [
         "16",
         "Max",
         "16"
        ],
        [
         "15",
         "Logan",
         "10"
        ],
        [
         "3",
         "Daniel",
         "9"
        ],
        [
         "10",
         "Kevin",
         "8"
        ],
        [
         "18",
         "Oliver",
         "7"
        ],
        [
         "19",
         "Oscar",
         "7"
        ],
        [
         "17",
         "Nico",
         "6"
        ],
        [
         "7",
         "George",
         "5"
        ],
        [
         "11",
         "Lance",
         "4"
        ],
        [
         "6",
         "Franco",
         "2"
        ],
        [
         "9",
         "Jack",
         "2"
        ],
        [
         "1",
         "Carlos",
         "0"
        ],
        [
         "14",
         "Liam",
         "-2"
        ],
        [
         "21",
         "Sergio",
         "-4"
        ],
        [
         "0",
         "Alexander",
         "-9"
        ],
        [
         "5",
         "Fernando",
         "-13"
        ],
        [
         "22",
         "Valtteri",
         "-19"
        ],
        [
         "4",
         "Esteban",
         "-20"
        ],
        [
         "12",
         "Lando",
         "-22"
        ],
        [
         "23",
         "Yuki",
         "-28"
        ]
       ],
       "shape": {
        "columns": 2,
        "rows": 24
       }
      },
      "text/html": [
       "<div>\n",
       "<style scoped>\n",
       "    .dataframe tbody tr th:only-of-type {\n",
       "        vertical-align: middle;\n",
       "    }\n",
       "\n",
       "    .dataframe tbody tr th {\n",
       "        vertical-align: top;\n",
       "    }\n",
       "\n",
       "    .dataframe thead th {\n",
       "        text-align: right;\n",
       "    }\n",
       "</style>\n",
       "<table border=\"1\" class=\"dataframe\">\n",
       "  <thead>\n",
       "    <tr style=\"text-align: right;\">\n",
       "      <th></th>\n",
       "      <th>forename</th>\n",
       "      <th>Perfomance</th>\n",
       "    </tr>\n",
       "  </thead>\n",
       "  <tbody>\n",
       "    <tr>\n",
       "      <th>13</th>\n",
       "      <td>Lewis</td>\n",
       "      <td>36</td>\n",
       "    </tr>\n",
       "    <tr>\n",
       "      <th>2</th>\n",
       "      <td>Charles</td>\n",
       "      <td>29</td>\n",
       "    </tr>\n",
       "    <tr>\n",
       "      <th>8</th>\n",
       "      <td>Guanyu</td>\n",
       "      <td>28</td>\n",
       "    </tr>\n",
       "    <tr>\n",
       "      <th>20</th>\n",
       "      <td>Pierre</td>\n",
       "      <td>26</td>\n",
       "    </tr>\n",
       "    <tr>\n",
       "      <th>16</th>\n",
       "      <td>Max</td>\n",
       "      <td>16</td>\n",
       "    </tr>\n",
       "    <tr>\n",
       "      <th>15</th>\n",
       "      <td>Logan</td>\n",
       "      <td>10</td>\n",
       "    </tr>\n",
       "    <tr>\n",
       "      <th>3</th>\n",
       "      <td>Daniel</td>\n",
       "      <td>9</td>\n",
       "    </tr>\n",
       "    <tr>\n",
       "      <th>10</th>\n",
       "      <td>Kevin</td>\n",
       "      <td>8</td>\n",
       "    </tr>\n",
       "    <tr>\n",
       "      <th>18</th>\n",
       "      <td>Oliver</td>\n",
       "      <td>7</td>\n",
       "    </tr>\n",
       "    <tr>\n",
       "      <th>19</th>\n",
       "      <td>Oscar</td>\n",
       "      <td>7</td>\n",
       "    </tr>\n",
       "    <tr>\n",
       "      <th>17</th>\n",
       "      <td>Nico</td>\n",
       "      <td>6</td>\n",
       "    </tr>\n",
       "    <tr>\n",
       "      <th>7</th>\n",
       "      <td>George</td>\n",
       "      <td>5</td>\n",
       "    </tr>\n",
       "    <tr>\n",
       "      <th>11</th>\n",
       "      <td>Lance</td>\n",
       "      <td>4</td>\n",
       "    </tr>\n",
       "    <tr>\n",
       "      <th>6</th>\n",
       "      <td>Franco</td>\n",
       "      <td>2</td>\n",
       "    </tr>\n",
       "    <tr>\n",
       "      <th>9</th>\n",
       "      <td>Jack</td>\n",
       "      <td>2</td>\n",
       "    </tr>\n",
       "    <tr>\n",
       "      <th>1</th>\n",
       "      <td>Carlos</td>\n",
       "      <td>0</td>\n",
       "    </tr>\n",
       "    <tr>\n",
       "      <th>14</th>\n",
       "      <td>Liam</td>\n",
       "      <td>-2</td>\n",
       "    </tr>\n",
       "    <tr>\n",
       "      <th>21</th>\n",
       "      <td>Sergio</td>\n",
       "      <td>-4</td>\n",
       "    </tr>\n",
       "    <tr>\n",
       "      <th>0</th>\n",
       "      <td>Alexander</td>\n",
       "      <td>-9</td>\n",
       "    </tr>\n",
       "    <tr>\n",
       "      <th>5</th>\n",
       "      <td>Fernando</td>\n",
       "      <td>-13</td>\n",
       "    </tr>\n",
       "    <tr>\n",
       "      <th>22</th>\n",
       "      <td>Valtteri</td>\n",
       "      <td>-19</td>\n",
       "    </tr>\n",
       "    <tr>\n",
       "      <th>4</th>\n",
       "      <td>Esteban</td>\n",
       "      <td>-20</td>\n",
       "    </tr>\n",
       "    <tr>\n",
       "      <th>12</th>\n",
       "      <td>Lando</td>\n",
       "      <td>-22</td>\n",
       "    </tr>\n",
       "    <tr>\n",
       "      <th>23</th>\n",
       "      <td>Yuki</td>\n",
       "      <td>-28</td>\n",
       "    </tr>\n",
       "  </tbody>\n",
       "</table>\n",
       "</div>"
      ],
      "text/plain": [
       "     forename  Perfomance\n",
       "13      Lewis          36\n",
       "2     Charles          29\n",
       "8      Guanyu          28\n",
       "20     Pierre          26\n",
       "16        Max          16\n",
       "15      Logan          10\n",
       "3      Daniel           9\n",
       "10      Kevin           8\n",
       "18     Oliver           7\n",
       "19      Oscar           7\n",
       "17       Nico           6\n",
       "7      George           5\n",
       "11      Lance           4\n",
       "6      Franco           2\n",
       "9        Jack           2\n",
       "1      Carlos           0\n",
       "14       Liam          -2\n",
       "21     Sergio          -4\n",
       "0   Alexander          -9\n",
       "5    Fernando         -13\n",
       "22   Valtteri         -19\n",
       "4     Esteban         -20\n",
       "12      Lando         -22\n",
       "23       Yuki         -28"
      ]
     },
     "execution_count": 9,
     "metadata": {},
     "output_type": "execute_result"
    }
   ],
   "source": [
    "SomaPerfomance"
   ]
  },
  {
   "cell_type": "code",
   "execution_count": 10,
   "id": "3c675424",
   "metadata": {},
   "outputs": [],
   "source": [
    "colors = ['lime' if val >= 0 else 'red' for val in SomaPerfomance['Perfomance']]\n"
   ]
  },
  {
   "cell_type": "code",
   "execution_count": 12,
   "id": "c75bda46",
   "metadata": {},
   "outputs": [
    {
     "data": {
      "image/png": "[encoded data removed]",
      "text/plain": [
       "<Figure size 640x480 with 1 Axes>"
      ]
     },
     "metadata": {},
     "output_type": "display_data"
    }
   ],
   "source": [
    "plt.barh(SomaPerfomance['forename'], SomaPerfomance['Perfomance'], color = colors)\n",
    "plt.title('Perfomance dos Corredores (PosFinal - PosInicial)')\n",
    "plt.ylabel('Drivers')\n",
    "plt.xlabel('Perfomance')\n",
    "plt.tight_layout()"
   ]
  },
  {
   "cell_type": "code",
   "execution_count": null,
   "id": "a2427c2e",
   "metadata": {},
   "outputs": [],
   "source": []
  }
 ],
 "metadata": {
  "kernelspec": {
   "display_name": "Python 3",
   "language": "python",
   "name": "python3"
  },
  "language_info": {
   "codemirror_mode": {
    "name": "ipython",
    "version": 3
   },
   "file_extension": ".py",
   "mimetype": "text/x-python",
   "name": "python",
   "nbconvert_exporter": "python",
   "pygments_lexer": "ipython3",
   "version": "3.12.1"
  }
 },
 "nbformat": 4,
 "nbformat_minor": 5
}
