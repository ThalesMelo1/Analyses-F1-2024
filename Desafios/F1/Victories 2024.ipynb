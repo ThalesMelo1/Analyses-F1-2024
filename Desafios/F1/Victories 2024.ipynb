{
 "cells": [
  {
   "cell_type": "markdown",
   "id": "d5b8789c",
   "metadata": {},
   "source": [
    "# Graph Number of Victories"
   ]
  },
  {
   "cell_type": "markdown",
   "id": "cf503aaa",
   "metadata": {},
   "source": [
    "## Import libraries and read the dataframe"
   ]
  },
  {
   "cell_type": "code",
   "execution_count": 1,
   "id": "2929dc52",
   "metadata": {},
   "outputs": [],
   "source": [
    "import pandas as pd\n",
    "import matplotlib.pyplot as plt\n",
    "import numpy as np"
   ]
  },
  {
   "cell_type": "code",
   "execution_count": 2,
   "id": "da1d859e",
   "metadata": {},
   "outputs": [],
   "source": [
    "df = pd.read_csv('/workspaces/Repository_Data_Science_Challenges/Desafios/F1/Data/Base.csv')"
   ]
  },
  {
   "cell_type": "code",
   "execution_count": 3,
   "id": "f4b3c490",
   "metadata": {},
   "outputs": [],
   "source": [
    "df.drop('Unnamed: 0', axis = 'columns',  inplace = True)"
   ]
  },
  {
   "cell_type": "markdown",
   "id": "c7cd5fb9",
   "metadata": {},
   "source": [
    "## Creat the DataFrame of 2024 and get the important columns"
   ]
  },
  {
   "cell_type": "code",
   "execution_count": 4,
   "id": "27b599ef",
   "metadata": {},
   "outputs": [
    {
     "data": {
      "application/vnd.microsoft.datawrangler.viewer.v0+json": {
       "columns": [
        {
         "name": "index",
         "rawType": "int64",
         "type": "integer"
        },
        {
         "name": "raceId",
         "rawType": "int64",
         "type": "integer"
        },
        {
         "name": "year",
         "rawType": "int64",
         "type": "integer"
        },
        {
         "name": "date",
         "rawType": "object",
         "type": "string"
        },
        {
         "name": "name",
         "rawType": "object",
         "type": "string"
        },
        {
         "name": "forename",
         "rawType": "object",
         "type": "string"
        },
        {
         "name": "driverRef",
         "rawType": "object",
         "type": "string"
        },
        {
         "name": "grid",
         "rawType": "int64",
         "type": "integer"
        },
        {
         "name": "position",
         "rawType": "int64",
         "type": "integer"
        },
        {
         "name": "points",
         "rawType": "float64",
         "type": "float"
        }
       ],
       "ref": "0fb864f0-9641-4e37-9c07-ba6b1189d952",
       "rows": [
        [
         "0",
         "1144",
         "2024",
         "2024-12-08",
         "Abu Dhabi Grand Prix",
         "Lando",
         "norris",
         "1",
         "1",
         "25.0"
        ],
        [
         "1",
         "1144",
         "2024",
         "2024-12-08",
         "Abu Dhabi Grand Prix",
         "Carlos",
         "sainz",
         "3",
         "2",
         "18.0"
        ],
        [
         "2",
         "1144",
         "2024",
         "2024-12-08",
         "Abu Dhabi Grand Prix",
         "Charles",
         "leclerc",
         "19",
         "3",
         "15.0"
        ],
        [
         "3",
         "1144",
         "2024",
         "2024-12-08",
         "Abu Dhabi Grand Prix",
         "Lewis",
         "hamilton",
         "16",
         "4",
         "12.0"
        ],
        [
         "4",
         "1144",
         "2024",
         "2024-12-08",
         "Abu Dhabi Grand Prix",
         "George",
         "russell",
         "6",
         "5",
         "10.0"
        ],
        [
         "5",
         "1144",
         "2024",
         "2024-12-08",
         "Abu Dhabi Grand Prix",
         "Max",
         "max_verstappen",
         "4",
         "6",
         "8.0"
        ],
        [
         "6",
         "1144",
         "2024",
         "2024-12-08",
         "Abu Dhabi Grand Prix",
         "Pierre",
         "gasly",
         "5",
         "7",
         "6.0"
        ],
        [
         "7",
         "1144",
         "2024",
         "2024-12-08",
         "Abu Dhabi Grand Prix",
         "Nico",
         "hulkenberg",
         "7",
         "8",
         "4.0"
        ],
        [
         "8",
         "1144",
         "2024",
         "2024-12-08",
         "Abu Dhabi Grand Prix",
         "Fernando",
         "alonso",
         "8",
         "9",
         "2.0"
        ],
        [
         "9",
         "1144",
         "2024",
         "2024-12-08",
         "Abu Dhabi Grand Prix",
         "Oscar",
         "piastri",
         "2",
         "10",
         "1.0"
        ],
        [
         "10",
         "1144",
         "2024",
         "2024-12-08",
         "Abu Dhabi Grand Prix",
         "Alexander",
         "albon",
         "18",
         "11",
         "0.0"
        ],
        [
         "11",
         "1144",
         "2024",
         "2024-12-08",
         "Abu Dhabi Grand Prix",
         "Yuki",
         "tsunoda",
         "11",
         "12",
         "0.0"
        ],
        [
         "12",
         "1144",
         "2024",
         "2024-12-08",
         "Abu Dhabi Grand Prix",
         "Guanyu",
         "zhou",
         "15",
         "13",
         "0.0"
        ],
        [
         "13",
         "1144",
         "2024",
         "2024-12-08",
         "Abu Dhabi Grand Prix",
         "Lance",
         "stroll",
         "13",
         "14",
         "0.0"
        ],
        [
         "14",
         "1144",
         "2024",
         "2024-12-08",
         "Abu Dhabi Grand Prix",
         "Jack",
         "doohan",
         "17",
         "15",
         "0.0"
        ],
        [
         "15",
         "1144",
         "2024",
         "2024-12-08",
         "Abu Dhabi Grand Prix",
         "Kevin",
         "kevin_magnussen",
         "14",
         "16",
         "0.0"
        ],
        [
         "16",
         "1144",
         "2024",
         "2024-12-08",
         "Abu Dhabi Grand Prix",
         "Liam",
         "lawson",
         "12",
         "17",
         "0.0"
        ],
        [
         "17",
         "1144",
         "2024",
         "2024-12-08",
         "Abu Dhabi Grand Prix",
         "Sergio",
         "perez",
         "10",
         "999",
         "0.0"
        ],
        [
         "18",
         "1144",
         "2024",
         "2024-12-08",
         "Abu Dhabi Grand Prix",
         "Valtteri",
         "bottas",
         "9",
         "999",
         "0.0"
        ],
        [
         "19",
         "1144",
         "2024",
         "2024-12-08",
         "Abu Dhabi Grand Prix",
         "Franco",
         "colapinto",
         "20",
         "999",
         "0.0"
        ],
        [
         "20",
         "1143",
         "2024",
         "2024-12-01",
         "Qatar Grand Prix",
         "Max",
         "max_verstappen",
         "2",
         "1",
         "25.0"
        ],
        [
         "21",
         "1143",
         "2024",
         "2024-12-01",
         "Qatar Grand Prix",
         "Charles",
         "leclerc",
         "5",
         "2",
         "18.0"
        ],
        [
         "22",
         "1143",
         "2024",
         "2024-12-01",
         "Qatar Grand Prix",
         "Oscar",
         "piastri",
         "4",
         "3",
         "15.0"
        ],
        [
         "23",
         "1143",
         "2024",
         "2024-12-01",
         "Qatar Grand Prix",
         "George",
         "russell",
         "1",
         "4",
         "12.0"
        ],
        [
         "24",
         "1143",
         "2024",
         "2024-12-01",
         "Qatar Grand Prix",
         "Pierre",
         "gasly",
         "11",
         "5",
         "10.0"
        ],
        [
         "25",
         "1143",
         "2024",
         "2024-12-01",
         "Qatar Grand Prix",
         "Carlos",
         "sainz",
         "7",
         "6",
         "8.0"
        ],
        [
         "26",
         "1143",
         "2024",
         "2024-12-01",
         "Qatar Grand Prix",
         "Fernando",
         "alonso",
         "8",
         "7",
         "6.0"
        ],
        [
         "27",
         "1143",
         "2024",
         "2024-12-01",
         "Qatar Grand Prix",
         "Guanyu",
         "zhou",
         "12",
         "8",
         "4.0"
        ],
        [
         "28",
         "1143",
         "2024",
         "2024-12-01",
         "Qatar Grand Prix",
         "Kevin",
         "kevin_magnussen",
         "10",
         "9",
         "2.0"
        ],
        [
         "29",
         "1143",
         "2024",
         "2024-12-01",
         "Qatar Grand Prix",
         "Lando",
         "norris",
         "3",
         "10",
         "2.0"
        ],
        [
         "30",
         "1143",
         "2024",
         "2024-12-01",
         "Qatar Grand Prix",
         "Valtteri",
         "bottas",
         "13",
         "11",
         "0.0"
        ],
        [
         "31",
         "1143",
         "2024",
         "2024-12-01",
         "Qatar Grand Prix",
         "Lewis",
         "hamilton",
         "6",
         "12",
         "0.0"
        ],
        [
         "32",
         "1143",
         "2024",
         "2024-12-01",
         "Qatar Grand Prix",
         "Yuki",
         "tsunoda",
         "14",
         "13",
         "0.0"
        ],
        [
         "33",
         "1143",
         "2024",
         "2024-12-01",
         "Qatar Grand Prix",
         "Liam",
         "lawson",
         "17",
         "14",
         "0.0"
        ],
        [
         "34",
         "1143",
         "2024",
         "2024-12-01",
         "Qatar Grand Prix",
         "Alexander",
         "albon",
         "16",
         "15",
         "0.0"
        ],
        [
         "35",
         "1143",
         "2024",
         "2024-12-01",
         "Qatar Grand Prix",
         "Nico",
         "hulkenberg",
         "18",
         "999",
         "0.0"
        ],
        [
         "36",
         "1143",
         "2024",
         "2024-12-01",
         "Qatar Grand Prix",
         "Sergio",
         "perez",
         "9",
         "999",
         "0.0"
        ],
        [
         "37",
         "1143",
         "2024",
         "2024-12-01",
         "Qatar Grand Prix",
         "Esteban",
         "ocon",
         "20",
         "999",
         "0.0"
        ],
        [
         "38",
         "1143",
         "2024",
         "2024-12-01",
         "Qatar Grand Prix",
         "Lance",
         "stroll",
         "15",
         "999",
         "0.0"
        ],
        [
         "39",
         "1143",
         "2024",
         "2024-12-01",
         "Qatar Grand Prix",
         "Franco",
         "colapinto",
         "19",
         "999",
         "0.0"
        ],
        [
         "40",
         "1142",
         "2024",
         "2024-11-23",
         "Las Vegas Grand Prix",
         "George",
         "russell",
         "1",
         "1",
         "25.0"
        ],
        [
         "41",
         "1142",
         "2024",
         "2024-11-23",
         "Las Vegas Grand Prix",
         "Lewis",
         "hamilton",
         "10",
         "2",
         "18.0"
        ],
        [
         "42",
         "1142",
         "2024",
         "2024-11-23",
         "Las Vegas Grand Prix",
         "Carlos",
         "sainz",
         "2",
         "3",
         "15.0"
        ],
        [
         "43",
         "1142",
         "2024",
         "2024-11-23",
         "Las Vegas Grand Prix",
         "Charles",
         "leclerc",
         "4",
         "4",
         "12.0"
        ],
        [
         "44",
         "1142",
         "2024",
         "2024-11-23",
         "Las Vegas Grand Prix",
         "Max",
         "max_verstappen",
         "5",
         "5",
         "10.0"
        ],
        [
         "45",
         "1142",
         "2024",
         "2024-11-23",
         "Las Vegas Grand Prix",
         "Lando",
         "norris",
         "6",
         "6",
         "9.0"
        ],
        [
         "46",
         "1142",
         "2024",
         "2024-11-23",
         "Las Vegas Grand Prix",
         "Oscar",
         "piastri",
         "8",
         "7",
         "6.0"
        ],
        [
         "47",
         "1142",
         "2024",
         "2024-11-23",
         "Las Vegas Grand Prix",
         "Nico",
         "hulkenberg",
         "9",
         "8",
         "4.0"
        ],
        [
         "48",
         "1142",
         "2024",
         "2024-11-23",
         "Las Vegas Grand Prix",
         "Yuki",
         "tsunoda",
         "7",
         "9",
         "2.0"
        ],
        [
         "49",
         "1142",
         "2024",
         "2024-11-23",
         "Las Vegas Grand Prix",
         "Sergio",
         "perez",
         "15",
         "10",
         "1.0"
        ]
       ],
       "shape": {
        "columns": 9,
        "rows": 479
       }
      },
      "text/html": [
       "<div>\n",
       "<style scoped>\n",
       "    .dataframe tbody tr th:only-of-type {\n",
       "        vertical-align: middle;\n",
       "    }\n",
       "\n",
       "    .dataframe tbody tr th {\n",
       "        vertical-align: top;\n",
       "    }\n",
       "\n",
       "    .dataframe thead th {\n",
       "        text-align: right;\n",
       "    }\n",
       "</style>\n",
       "<table border=\"1\" class=\"dataframe\">\n",
       "  <thead>\n",
       "    <tr style=\"text-align: right;\">\n",
       "      <th></th>\n",
       "      <th>raceId</th>\n",
       "      <th>year</th>\n",
       "      <th>date</th>\n",
       "      <th>name</th>\n",
       "      <th>forename</th>\n",
       "      <th>driverRef</th>\n",
       "      <th>grid</th>\n",
       "      <th>position</th>\n",
       "      <th>points</th>\n",
       "    </tr>\n",
       "  </thead>\n",
       "  <tbody>\n",
       "    <tr>\n",
       "      <th>0</th>\n",
       "      <td>1144</td>\n",
       "      <td>2024</td>\n",
       "      <td>2024-12-08</td>\n",
       "      <td>Abu Dhabi Grand Prix</td>\n",
       "      <td>Lando</td>\n",
       "      <td>norris</td>\n",
       "      <td>1</td>\n",
       "      <td>1</td>\n",
       "      <td>25.0</td>\n",
       "    </tr>\n",
       "    <tr>\n",
       "      <th>1</th>\n",
       "      <td>1144</td>\n",
       "      <td>2024</td>\n",
       "      <td>2024-12-08</td>\n",
       "      <td>Abu Dhabi Grand Prix</td>\n",
       "      <td>Carlos</td>\n",
       "      <td>sainz</td>\n",
       "      <td>3</td>\n",
       "      <td>2</td>\n",
       "      <td>18.0</td>\n",
       "    </tr>\n",
       "    <tr>\n",
       "      <th>2</th>\n",
       "      <td>1144</td>\n",
       "      <td>2024</td>\n",
       "      <td>2024-12-08</td>\n",
       "      <td>Abu Dhabi Grand Prix</td>\n",
       "      <td>Charles</td>\n",
       "      <td>leclerc</td>\n",
       "      <td>19</td>\n",
       "      <td>3</td>\n",
       "      <td>15.0</td>\n",
       "    </tr>\n",
       "    <tr>\n",
       "      <th>3</th>\n",
       "      <td>1144</td>\n",
       "      <td>2024</td>\n",
       "      <td>2024-12-08</td>\n",
       "      <td>Abu Dhabi Grand Prix</td>\n",
       "      <td>Lewis</td>\n",
       "      <td>hamilton</td>\n",
       "      <td>16</td>\n",
       "      <td>4</td>\n",
       "      <td>12.0</td>\n",
       "    </tr>\n",
       "    <tr>\n",
       "      <th>4</th>\n",
       "      <td>1144</td>\n",
       "      <td>2024</td>\n",
       "      <td>2024-12-08</td>\n",
       "      <td>Abu Dhabi Grand Prix</td>\n",
       "      <td>George</td>\n",
       "      <td>russell</td>\n",
       "      <td>6</td>\n",
       "      <td>5</td>\n",
       "      <td>10.0</td>\n",
       "    </tr>\n",
       "    <tr>\n",
       "      <th>...</th>\n",
       "      <td>...</td>\n",
       "      <td>...</td>\n",
       "      <td>...</td>\n",
       "      <td>...</td>\n",
       "      <td>...</td>\n",
       "      <td>...</td>\n",
       "      <td>...</td>\n",
       "      <td>...</td>\n",
       "      <td>...</td>\n",
       "    </tr>\n",
       "    <tr>\n",
       "      <th>474</th>\n",
       "      <td>1121</td>\n",
       "      <td>2024</td>\n",
       "      <td>2024-03-02</td>\n",
       "      <td>Bahrain Grand Prix</td>\n",
       "      <td>Nico</td>\n",
       "      <td>hulkenberg</td>\n",
       "      <td>10</td>\n",
       "      <td>16</td>\n",
       "      <td>0.0</td>\n",
       "    </tr>\n",
       "    <tr>\n",
       "      <th>475</th>\n",
       "      <td>1121</td>\n",
       "      <td>2024</td>\n",
       "      <td>2024-03-02</td>\n",
       "      <td>Bahrain Grand Prix</td>\n",
       "      <td>Esteban</td>\n",
       "      <td>ocon</td>\n",
       "      <td>19</td>\n",
       "      <td>17</td>\n",
       "      <td>0.0</td>\n",
       "    </tr>\n",
       "    <tr>\n",
       "      <th>476</th>\n",
       "      <td>1121</td>\n",
       "      <td>2024</td>\n",
       "      <td>2024-03-02</td>\n",
       "      <td>Bahrain Grand Prix</td>\n",
       "      <td>Pierre</td>\n",
       "      <td>gasly</td>\n",
       "      <td>20</td>\n",
       "      <td>18</td>\n",
       "      <td>0.0</td>\n",
       "    </tr>\n",
       "    <tr>\n",
       "      <th>477</th>\n",
       "      <td>1121</td>\n",
       "      <td>2024</td>\n",
       "      <td>2024-03-02</td>\n",
       "      <td>Bahrain Grand Prix</td>\n",
       "      <td>Valtteri</td>\n",
       "      <td>bottas</td>\n",
       "      <td>16</td>\n",
       "      <td>19</td>\n",
       "      <td>0.0</td>\n",
       "    </tr>\n",
       "    <tr>\n",
       "      <th>478</th>\n",
       "      <td>1121</td>\n",
       "      <td>2024</td>\n",
       "      <td>2024-03-02</td>\n",
       "      <td>Bahrain Grand Prix</td>\n",
       "      <td>Logan</td>\n",
       "      <td>sargeant</td>\n",
       "      <td>18</td>\n",
       "      <td>20</td>\n",
       "      <td>0.0</td>\n",
       "    </tr>\n",
       "  </tbody>\n",
       "</table>\n",
       "<p>479 rows × 9 columns</p>\n",
       "</div>"
      ],
      "text/plain": [
       "     raceId  year        date                  name  forename   driverRef  \\\n",
       "0      1144  2024  2024-12-08  Abu Dhabi Grand Prix     Lando      norris   \n",
       "1      1144  2024  2024-12-08  Abu Dhabi Grand Prix    Carlos       sainz   \n",
       "2      1144  2024  2024-12-08  Abu Dhabi Grand Prix   Charles     leclerc   \n",
       "3      1144  2024  2024-12-08  Abu Dhabi Grand Prix     Lewis    hamilton   \n",
       "4      1144  2024  2024-12-08  Abu Dhabi Grand Prix    George     russell   \n",
       "..      ...   ...         ...                   ...       ...         ...   \n",
       "474    1121  2024  2024-03-02    Bahrain Grand Prix      Nico  hulkenberg   \n",
       "475    1121  2024  2024-03-02    Bahrain Grand Prix   Esteban        ocon   \n",
       "476    1121  2024  2024-03-02    Bahrain Grand Prix    Pierre       gasly   \n",
       "477    1121  2024  2024-03-02    Bahrain Grand Prix  Valtteri      bottas   \n",
       "478    1121  2024  2024-03-02    Bahrain Grand Prix     Logan    sargeant   \n",
       "\n",
       "     grid  position  points  \n",
       "0       1         1    25.0  \n",
       "1       3         2    18.0  \n",
       "2      19         3    15.0  \n",
       "3      16         4    12.0  \n",
       "4       6         5    10.0  \n",
       "..    ...       ...     ...  \n",
       "474    10        16     0.0  \n",
       "475    19        17     0.0  \n",
       "476    20        18     0.0  \n",
       "477    16        19     0.0  \n",
       "478    18        20     0.0  \n",
       "\n",
       "[479 rows x 9 columns]"
      ]
     },
     "execution_count": 4,
     "metadata": {},
     "output_type": "execute_result"
    }
   ],
   "source": [
    "Graph2024 = df[df['year'] == 2024]\n",
    "Graph2024"
   ]
  },
  {
   "cell_type": "code",
   "execution_count": 5,
   "id": "6282e469",
   "metadata": {},
   "outputs": [],
   "source": [
    "names2024 = set(Graph2024['forename'].unique())"
   ]
  },
  {
   "cell_type": "code",
   "execution_count": 6,
   "id": "c9508ab2",
   "metadata": {},
   "outputs": [
    {
     "data": {
      "text/plain": [
       "{'Alexander',\n",
       " 'Carlos',\n",
       " 'Charles',\n",
       " 'Daniel',\n",
       " 'Esteban',\n",
       " 'Fernando',\n",
       " 'Franco',\n",
       " 'George',\n",
       " 'Guanyu',\n",
       " 'Jack',\n",
       " 'Kevin',\n",
       " 'Lance',\n",
       " 'Lando',\n",
       " 'Lewis',\n",
       " 'Liam',\n",
       " 'Logan',\n",
       " 'Max',\n",
       " 'Nico',\n",
       " 'Oliver',\n",
       " 'Oscar',\n",
       " 'Pierre',\n",
       " 'Sergio',\n",
       " 'Valtteri',\n",
       " 'Yuki'}"
      ]
     },
     "execution_count": 6,
     "metadata": {},
     "output_type": "execute_result"
    }
   ],
   "source": [
    "names2024"
   ]
  },
  {
   "cell_type": "code",
   "execution_count": 7,
   "id": "394b1df4",
   "metadata": {},
   "outputs": [],
   "source": [
    "Nomes2024 = pd.DataFrame(list(names2024), columns=[\"forename\"])"
   ]
  },
  {
   "cell_type": "code",
   "execution_count": 8,
   "id": "5f72b932",
   "metadata": {},
   "outputs": [
    {
     "data": {
      "application/vnd.microsoft.datawrangler.viewer.v0+json": {
       "columns": [
        {
         "name": "index",
         "rawType": "int64",
         "type": "integer"
        },
        {
         "name": "forename",
         "rawType": "object",
         "type": "string"
        }
       ],
       "ref": "aff1956d-3cac-4550-9689-0c676c268654",
       "rows": [
        [
         "0",
         "Nico"
        ],
        [
         "1",
         "Carlos"
        ],
        [
         "2",
         "Yuki"
        ],
        [
         "3",
         "Liam"
        ],
        [
         "4",
         "Charles"
        ],
        [
         "5",
         "Pierre"
        ],
        [
         "6",
         "Franco"
        ],
        [
         "7",
         "Lando"
        ],
        [
         "8",
         "Valtteri"
        ],
        [
         "9",
         "Alexander"
        ],
        [
         "10",
         "Esteban"
        ],
        [
         "11",
         "Logan"
        ],
        [
         "12",
         "Guanyu"
        ],
        [
         "13",
         "Sergio"
        ],
        [
         "14",
         "Oliver"
        ],
        [
         "15",
         "Max"
        ],
        [
         "16",
         "Lance"
        ],
        [
         "17",
         "Kevin"
        ],
        [
         "18",
         "Lewis"
        ],
        [
         "19",
         "Jack"
        ],
        [
         "20",
         "Daniel"
        ],
        [
         "21",
         "Fernando"
        ],
        [
         "22",
         "George"
        ],
        [
         "23",
         "Oscar"
        ]
       ],
       "shape": {
        "columns": 1,
        "rows": 24
       }
      },
      "text/html": [
       "<div>\n",
       "<style scoped>\n",
       "    .dataframe tbody tr th:only-of-type {\n",
       "        vertical-align: middle;\n",
       "    }\n",
       "\n",
       "    .dataframe tbody tr th {\n",
       "        vertical-align: top;\n",
       "    }\n",
       "\n",
       "    .dataframe thead th {\n",
       "        text-align: right;\n",
       "    }\n",
       "</style>\n",
       "<table border=\"1\" class=\"dataframe\">\n",
       "  <thead>\n",
       "    <tr style=\"text-align: right;\">\n",
       "      <th></th>\n",
       "      <th>forename</th>\n",
       "    </tr>\n",
       "  </thead>\n",
       "  <tbody>\n",
       "    <tr>\n",
       "      <th>0</th>\n",
       "      <td>Nico</td>\n",
       "    </tr>\n",
       "    <tr>\n",
       "      <th>1</th>\n",
       "      <td>Carlos</td>\n",
       "    </tr>\n",
       "    <tr>\n",
       "      <th>2</th>\n",
       "      <td>Yuki</td>\n",
       "    </tr>\n",
       "    <tr>\n",
       "      <th>3</th>\n",
       "      <td>Liam</td>\n",
       "    </tr>\n",
       "    <tr>\n",
       "      <th>4</th>\n",
       "      <td>Charles</td>\n",
       "    </tr>\n",
       "    <tr>\n",
       "      <th>5</th>\n",
       "      <td>Pierre</td>\n",
       "    </tr>\n",
       "    <tr>\n",
       "      <th>6</th>\n",
       "      <td>Franco</td>\n",
       "    </tr>\n",
       "    <tr>\n",
       "      <th>7</th>\n",
       "      <td>Lando</td>\n",
       "    </tr>\n",
       "    <tr>\n",
       "      <th>8</th>\n",
       "      <td>Valtteri</td>\n",
       "    </tr>\n",
       "    <tr>\n",
       "      <th>9</th>\n",
       "      <td>Alexander</td>\n",
       "    </tr>\n",
       "    <tr>\n",
       "      <th>10</th>\n",
       "      <td>Esteban</td>\n",
       "    </tr>\n",
       "    <tr>\n",
       "      <th>11</th>\n",
       "      <td>Logan</td>\n",
       "    </tr>\n",
       "    <tr>\n",
       "      <th>12</th>\n",
       "      <td>Guanyu</td>\n",
       "    </tr>\n",
       "    <tr>\n",
       "      <th>13</th>\n",
       "      <td>Sergio</td>\n",
       "    </tr>\n",
       "    <tr>\n",
       "      <th>14</th>\n",
       "      <td>Oliver</td>\n",
       "    </tr>\n",
       "    <tr>\n",
       "      <th>15</th>\n",
       "      <td>Max</td>\n",
       "    </tr>\n",
       "    <tr>\n",
       "      <th>16</th>\n",
       "      <td>Lance</td>\n",
       "    </tr>\n",
       "    <tr>\n",
       "      <th>17</th>\n",
       "      <td>Kevin</td>\n",
       "    </tr>\n",
       "    <tr>\n",
       "      <th>18</th>\n",
       "      <td>Lewis</td>\n",
       "    </tr>\n",
       "    <tr>\n",
       "      <th>19</th>\n",
       "      <td>Jack</td>\n",
       "    </tr>\n",
       "    <tr>\n",
       "      <th>20</th>\n",
       "      <td>Daniel</td>\n",
       "    </tr>\n",
       "    <tr>\n",
       "      <th>21</th>\n",
       "      <td>Fernando</td>\n",
       "    </tr>\n",
       "    <tr>\n",
       "      <th>22</th>\n",
       "      <td>George</td>\n",
       "    </tr>\n",
       "    <tr>\n",
       "      <th>23</th>\n",
       "      <td>Oscar</td>\n",
       "    </tr>\n",
       "  </tbody>\n",
       "</table>\n",
       "</div>"
      ],
      "text/plain": [
       "     forename\n",
       "0        Nico\n",
       "1      Carlos\n",
       "2        Yuki\n",
       "3        Liam\n",
       "4     Charles\n",
       "5      Pierre\n",
       "6      Franco\n",
       "7       Lando\n",
       "8    Valtteri\n",
       "9   Alexander\n",
       "10    Esteban\n",
       "11      Logan\n",
       "12     Guanyu\n",
       "13     Sergio\n",
       "14     Oliver\n",
       "15        Max\n",
       "16      Lance\n",
       "17      Kevin\n",
       "18      Lewis\n",
       "19       Jack\n",
       "20     Daniel\n",
       "21   Fernando\n",
       "22     George\n",
       "23      Oscar"
      ]
     },
     "execution_count": 8,
     "metadata": {},
     "output_type": "execute_result"
    }
   ],
   "source": [
    "Nomes2024"
   ]
  },
  {
   "cell_type": "code",
   "execution_count": 9,
   "id": "c78113a8",
   "metadata": {},
   "outputs": [],
   "source": [
    "Wins2024 = Graph2024[Graph2024['position'] == 1]['forename'].value_counts()"
   ]
  },
  {
   "cell_type": "code",
   "execution_count": 10,
   "id": "67313672",
   "metadata": {},
   "outputs": [],
   "source": [
    "Plot = pd.merge(Nomes2024, Wins2024, how = 'left',on = 'forename')"
   ]
  },
  {
   "cell_type": "code",
   "execution_count": 11,
   "id": "722f48ef",
   "metadata": {},
   "outputs": [],
   "source": [
    "Plot.fillna(0, inplace = True)"
   ]
  },
  {
   "cell_type": "code",
   "execution_count": 12,
   "id": "24ec9946",
   "metadata": {},
   "outputs": [],
   "source": [
    "Plot = Plot.sort_values(by = ['count'], ascending = False)"
   ]
  },
  {
   "cell_type": "code",
   "execution_count": 13,
   "id": "cd707e65",
   "metadata": {},
   "outputs": [
    {
     "data": {
      "application/vnd.microsoft.datawrangler.viewer.v0+json": {
       "columns": [
        {
         "name": "index",
         "rawType": "int64",
         "type": "integer"
        },
        {
         "name": "forename",
         "rawType": "object",
         "type": "string"
        },
        {
         "name": "count",
         "rawType": "float64",
         "type": "float"
        }
       ],
       "ref": "e3d923bf-ba08-4a1c-987b-eeee12e53483",
       "rows": [
        [
         "15",
         "Max",
         "9.0"
        ],
        [
         "7",
         "Lando",
         "4.0"
        ],
        [
         "4",
         "Charles",
         "3.0"
        ],
        [
         "1",
         "Carlos",
         "2.0"
        ],
        [
         "18",
         "Lewis",
         "2.0"
        ],
        [
         "23",
         "Oscar",
         "2.0"
        ],
        [
         "22",
         "George",
         "2.0"
        ],
        [
         "0",
         "Nico",
         "0.0"
        ],
        [
         "6",
         "Franco",
         "0.0"
        ],
        [
         "5",
         "Pierre",
         "0.0"
        ],
        [
         "2",
         "Yuki",
         "0.0"
        ],
        [
         "3",
         "Liam",
         "0.0"
        ],
        [
         "11",
         "Logan",
         "0.0"
        ],
        [
         "8",
         "Valtteri",
         "0.0"
        ],
        [
         "10",
         "Esteban",
         "0.0"
        ],
        [
         "9",
         "Alexander",
         "0.0"
        ],
        [
         "14",
         "Oliver",
         "0.0"
        ],
        [
         "13",
         "Sergio",
         "0.0"
        ],
        [
         "12",
         "Guanyu",
         "0.0"
        ],
        [
         "16",
         "Lance",
         "0.0"
        ],
        [
         "19",
         "Jack",
         "0.0"
        ],
        [
         "17",
         "Kevin",
         "0.0"
        ],
        [
         "21",
         "Fernando",
         "0.0"
        ],
        [
         "20",
         "Daniel",
         "0.0"
        ]
       ],
       "shape": {
        "columns": 2,
        "rows": 24
       }
      },
      "text/html": [
       "<div>\n",
       "<style scoped>\n",
       "    .dataframe tbody tr th:only-of-type {\n",
       "        vertical-align: middle;\n",
       "    }\n",
       "\n",
       "    .dataframe tbody tr th {\n",
       "        vertical-align: top;\n",
       "    }\n",
       "\n",
       "    .dataframe thead th {\n",
       "        text-align: right;\n",
       "    }\n",
       "</style>\n",
       "<table border=\"1\" class=\"dataframe\">\n",
       "  <thead>\n",
       "    <tr style=\"text-align: right;\">\n",
       "      <th></th>\n",
       "      <th>forename</th>\n",
       "      <th>count</th>\n",
       "    </tr>\n",
       "  </thead>\n",
       "  <tbody>\n",
       "    <tr>\n",
       "      <th>15</th>\n",
       "      <td>Max</td>\n",
       "      <td>9.0</td>\n",
       "    </tr>\n",
       "    <tr>\n",
       "      <th>7</th>\n",
       "      <td>Lando</td>\n",
       "      <td>4.0</td>\n",
       "    </tr>\n",
       "    <tr>\n",
       "      <th>4</th>\n",
       "      <td>Charles</td>\n",
       "      <td>3.0</td>\n",
       "    </tr>\n",
       "    <tr>\n",
       "      <th>1</th>\n",
       "      <td>Carlos</td>\n",
       "      <td>2.0</td>\n",
       "    </tr>\n",
       "    <tr>\n",
       "      <th>18</th>\n",
       "      <td>Lewis</td>\n",
       "      <td>2.0</td>\n",
       "    </tr>\n",
       "    <tr>\n",
       "      <th>23</th>\n",
       "      <td>Oscar</td>\n",
       "      <td>2.0</td>\n",
       "    </tr>\n",
       "    <tr>\n",
       "      <th>22</th>\n",
       "      <td>George</td>\n",
       "      <td>2.0</td>\n",
       "    </tr>\n",
       "    <tr>\n",
       "      <th>0</th>\n",
       "      <td>Nico</td>\n",
       "      <td>0.0</td>\n",
       "    </tr>\n",
       "    <tr>\n",
       "      <th>6</th>\n",
       "      <td>Franco</td>\n",
       "      <td>0.0</td>\n",
       "    </tr>\n",
       "    <tr>\n",
       "      <th>5</th>\n",
       "      <td>Pierre</td>\n",
       "      <td>0.0</td>\n",
       "    </tr>\n",
       "    <tr>\n",
       "      <th>2</th>\n",
       "      <td>Yuki</td>\n",
       "      <td>0.0</td>\n",
       "    </tr>\n",
       "    <tr>\n",
       "      <th>3</th>\n",
       "      <td>Liam</td>\n",
       "      <td>0.0</td>\n",
       "    </tr>\n",
       "    <tr>\n",
       "      <th>11</th>\n",
       "      <td>Logan</td>\n",
       "      <td>0.0</td>\n",
       "    </tr>\n",
       "    <tr>\n",
       "      <th>8</th>\n",
       "      <td>Valtteri</td>\n",
       "      <td>0.0</td>\n",
       "    </tr>\n",
       "    <tr>\n",
       "      <th>10</th>\n",
       "      <td>Esteban</td>\n",
       "      <td>0.0</td>\n",
       "    </tr>\n",
       "    <tr>\n",
       "      <th>9</th>\n",
       "      <td>Alexander</td>\n",
       "      <td>0.0</td>\n",
       "    </tr>\n",
       "    <tr>\n",
       "      <th>14</th>\n",
       "      <td>Oliver</td>\n",
       "      <td>0.0</td>\n",
       "    </tr>\n",
       "    <tr>\n",
       "      <th>13</th>\n",
       "      <td>Sergio</td>\n",
       "      <td>0.0</td>\n",
       "    </tr>\n",
       "    <tr>\n",
       "      <th>12</th>\n",
       "      <td>Guanyu</td>\n",
       "      <td>0.0</td>\n",
       "    </tr>\n",
       "    <tr>\n",
       "      <th>16</th>\n",
       "      <td>Lance</td>\n",
       "      <td>0.0</td>\n",
       "    </tr>\n",
       "    <tr>\n",
       "      <th>19</th>\n",
       "      <td>Jack</td>\n",
       "      <td>0.0</td>\n",
       "    </tr>\n",
       "    <tr>\n",
       "      <th>17</th>\n",
       "      <td>Kevin</td>\n",
       "      <td>0.0</td>\n",
       "    </tr>\n",
       "    <tr>\n",
       "      <th>21</th>\n",
       "      <td>Fernando</td>\n",
       "      <td>0.0</td>\n",
       "    </tr>\n",
       "    <tr>\n",
       "      <th>20</th>\n",
       "      <td>Daniel</td>\n",
       "      <td>0.0</td>\n",
       "    </tr>\n",
       "  </tbody>\n",
       "</table>\n",
       "</div>"
      ],
      "text/plain": [
       "     forename  count\n",
       "15        Max    9.0\n",
       "7       Lando    4.0\n",
       "4     Charles    3.0\n",
       "1      Carlos    2.0\n",
       "18      Lewis    2.0\n",
       "23      Oscar    2.0\n",
       "22     George    2.0\n",
       "0        Nico    0.0\n",
       "6      Franco    0.0\n",
       "5      Pierre    0.0\n",
       "2        Yuki    0.0\n",
       "3        Liam    0.0\n",
       "11      Logan    0.0\n",
       "8    Valtteri    0.0\n",
       "10    Esteban    0.0\n",
       "9   Alexander    0.0\n",
       "14     Oliver    0.0\n",
       "13     Sergio    0.0\n",
       "12     Guanyu    0.0\n",
       "16      Lance    0.0\n",
       "19       Jack    0.0\n",
       "17      Kevin    0.0\n",
       "21   Fernando    0.0\n",
       "20     Daniel    0.0"
      ]
     },
     "execution_count": 13,
     "metadata": {},
     "output_type": "execute_result"
    }
   ],
   "source": [
    "Plot"
   ]
  },
  {
   "cell_type": "markdown",
   "id": "5e05a694",
   "metadata": {},
   "source": [
    "## Create the Graph"
   ]
  },
  {
   "cell_type": "code",
   "execution_count": 14,
   "id": "0f7a31e7",
   "metadata": {},
   "outputs": [],
   "source": [
    "cores_por_piloto = {\n",
    "    # Red Bull Racing\n",
    "    'Max': \"#831010\",\n",
    "    'Sergio': '#831010',\n",
    "\n",
    "    # Mercedes\n",
    "    'Lewis': '#27F4D2',\n",
    "    'George': '#27F4D2',\n",
    "\n",
    "    # Ferrari\n",
    "    'Charles': '#E80020',\n",
    "    'Carlos': '#E80020',\n",
    "    'Oliver': '#E80020',\n",
    "\n",
    "    # McLaren\n",
    "    'Lando': '#FF8000',\n",
    "    'Oscar': '#FF8000',\n",
    "\n",
    "    # Aston Martin\n",
    "    'Fernando': '#229971',\n",
    "    'Lance': '#229971',\n",
    "\n",
    "    # Alpine\n",
    "    'Esteban': '#0093CC',\n",
    "    'Pierre': '#0093CC',\n",
    "    'Jack': '#0093CC',\n",
    "\n",
    "    # Williams\n",
    "    'Alexander': '#64C4FF',\n",
    "    'Logan': '#64C4FF',\n",
    "    'Franco': '#64C4FF',\n",
    "\n",
    "    # Visa Cash App RB (Racing Bulls)\n",
    "    'Daniel': '#6692FF',\n",
    "    'Yuki': '#6692FF',\n",
    "    'Liam': '#6692FF',\n",
    "\n",
    "    # Kick Sauber\n",
    "    'Valtteri': '#52E252',\n",
    "    'Guanyu': '#52E252',\n",
    "\n",
    "    # Haas\n",
    "    'Kevin': '#B6BABD',\n",
    "    'Nico': '#B6BABD'\n",
    "}"
   ]
  },
  {
   "cell_type": "code",
   "execution_count": 15,
   "id": "95da7d61",
   "metadata": {},
   "outputs": [
    {
     "name": "stdout",
     "output_type": "stream",
     "text": [
      "0\n",
      "Empty DataFrame\n",
      "Columns: [forename, count]\n",
      "Index: []\n"
     ]
    }
   ],
   "source": [
    "cores = Plot['forename'].map(cores_por_piloto)\n",
    "print(cores.isna().sum())  # Mostra quantos pilotos ficaram sem cor\n",
    "print(Plot[cores.isna()]) # Mostra quais pilotos não foram mapeados\n"
   ]
  },
  {
   "cell_type": "code",
   "execution_count": 16,
   "id": "1fb2e2d4",
   "metadata": {},
   "outputs": [
    {
     "data": {
      "text/plain": [
       "<Figure size 4000x1800 with 0 Axes>"
      ]
     },
     "execution_count": 16,
     "metadata": {},
     "output_type": "execute_result"
    },
    {
     "data": {
      "image/png": "[encoded data removed]",
      "text/plain": [
       "<Figure size 640x480 with 1 Axes>"
      ]
     },
     "metadata": {},
     "output_type": "display_data"
    },
    {
     "data": {
      "text/plain": [
       "<Figure size 4000x1800 with 0 Axes>"
      ]
     },
     "metadata": {},
     "output_type": "display_data"
    }
   ],
   "source": [
    "plt.barh(Plot['forename'], Plot['count'], color = cores)\n",
    "plt.title('Number of victories in 2024')\n",
    "plt.gca().invert_yaxis()\n",
    "plt.xlabel('Wins')\n",
    "plt.ylabel('Drivers')\n",
    "plt.tight_layout()\n",
    "plt.figure(figsize=(40, 18))"
   ]
  }
 ],
 "metadata": {
  "kernelspec": {
   "display_name": "Python 3",
   "language": "python",
   "name": "python3"
  },
  "language_info": {
   "codemirror_mode": {
    "name": "ipython",
    "version": 3
   },
   "file_extension": ".py",
   "mimetype": "text/x-python",
   "name": "python",
   "nbconvert_exporter": "python",
   "pygments_lexer": "ipython3",
   "version": "3.12.1"
  }
 },
 "nbformat": 4,
 "nbformat_minor": 5
}
